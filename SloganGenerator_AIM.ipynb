{
 "cells": [
  {
   "cell_type": "markdown",
   "metadata": {
    "colab_type": "text",
    "id": "3bw24ChJc8O_"
   },
   "source": [
    "# Librerías"
   ]
  },
  {
   "cell_type": "code",
   "execution_count": 1,
   "metadata": {},
   "outputs": [],
   "source": [
    "#!pip install wikipedia-api\n",
    "#!pip install wordcloud\n",
    "#!pip install -U spacy\n",
    "#!python -m spacy download en_core_web_md\n",
    "#!pip install -U gensim\n",
    "#!pip install fuzzywuzzy\n",
    "#!pip install python-Levenshtein"
   ]
  },
  {
   "cell_type": "code",
   "execution_count": 2,
   "metadata": {
    "colab": {
     "base_uri": "https://localhost:8080/",
     "height": 223
    },
    "colab_type": "code",
    "executionInfo": {
     "elapsed": 1053,
     "status": "ok",
     "timestamp": 1544636694883,
     "user": {
      "displayName": "Cristina Ríos",
      "photoUrl": "",
      "userId": "02000832313296606614"
     },
     "user_tz": -60
    },
    "id": "ynEgXMf8cu90",
    "outputId": "1c32a169-6c32-4281-d461-0524e31fb5e2"
   },
   "outputs": [
    {
     "name": "stderr",
     "output_type": "stream",
     "text": [
      "C:\\Users\\Ana\\AppData\\Local\\Continuum\\anaconda3\\lib\\site-packages\\fuzzywuzzy\\fuzz.py:11: UserWarning: Using slow pure-python SequenceMatcher. Install python-Levenshtein to remove this warning\n",
      "  warnings.warn('Using slow pure-python SequenceMatcher. Install python-Levenshtein to remove this warning')\n",
      "[nltk_data] Downloading package sentiwordnet to\n",
      "[nltk_data]     C:\\Users\\Ana\\AppData\\Roaming\\nltk_data...\n",
      "[nltk_data]   Package sentiwordnet is already up-to-date!\n"
     ]
    }
   ],
   "source": [
    "import numpy as np\n",
    "import pandas as pd\n",
    "import nltk\n",
    "import re\n",
    "import spacy\n",
    "import en_core_web_md\n",
    "import gensim\n",
    "from gensim.models import KeyedVectors\n",
    "from gensim.models.word2vec import Word2Vec\n",
    "from fuzzywuzzy import fuzz\n",
    "from fuzzywuzzy import process\n",
    "import seaborn as sns\n",
    "import string\n",
    "import random\n",
    "import wikipediaapi\n",
    "from nltk.tokenize import word_tokenize\n",
    "from nltk.stem import WordNetLemmatizer\n",
    "from nltk.corpus import stopwords\n",
    "from collections import Counter\n",
    "from sklearn.feature_extraction.text import CountVectorizer\n",
    "from sklearn.feature_extraction.text import TfidfVectorizer\n",
    "from wordcloud import WordCloud, STOPWORDS\n",
    "from nltk.corpus import sentiwordnet as swn\n",
    "nltk.download('sentiwordnet')\n",
    "import matplotlib.pyplot as plt\n",
    "import pickle\n",
    "import requests\n",
    "from bs4 import BeautifulSoup"
   ]
  },
  {
   "cell_type": "markdown",
   "metadata": {
    "colab_type": "text",
    "id": "_o1qBzqUdA1T"
   },
   "source": [
    "## ESLÓGANES"
   ]
  },
  {
   "cell_type": "markdown",
   "metadata": {},
   "source": [
    "### Web scraping"
   ]
  },
  {
   "cell_type": "code",
   "execution_count": 3,
   "metadata": {},
   "outputs": [
    {
     "name": "stdout",
     "output_type": "stream",
     "text": [
      "<!DOCTYPE html>\n",
      "<html lang=\"en-US\">\n",
      " <head>\n",
      "  <meta charset=\"utf-8\"/>\n",
      "  <meta content=\"width=device-width, initial-scale=1, minimum-scale=1\" name=\"viewport\"/>\n",
      "  <link href=\"http://gmpg.org/xfn/11\" rel=\"profile\"/>\n",
      "  <link href=\"http://www.adglitz.com/xmlrpc.php\" rel=\"pingback\"/>\n",
      "  <title>\n",
      "   Ad slogans taglines punchlines. 500+ slogans from famous commercials advertisements adverts. All time great database of ad slogans – Adglitz\n",
      "  </title>\n",
      "  <link href=\"//s.w.org\" rel=\"dns-prefetch\">\n",
      "   <link hr\n"
     ]
    }
   ],
   "source": [
    "# Conexión con la página web de la que se quieren extraer los eslóganes\n",
    "\n",
    "page = requests.get(\"http://www.adglitz.com/blog/2010/07/ad-slogans-taglines-punchlines-500-slogans-from-famous-commercials-advertisements-adverts-all-time-great-database-of-ad-slogans\")\n",
    "\n",
    "\n",
    "# Obtención del código fuente\n",
    "\n",
    "soup = BeautifulSoup(page.content, 'html.parser')\n",
    "\n",
    "print(soup.prettify()[:500])"
   ]
  },
  {
   "cell_type": "code",
   "execution_count": 4,
   "metadata": {},
   "outputs": [
    {
     "data": {
      "text/plain": [
       "['A-1 makes hamburgers taste like steakburgers',\n",
       " 'Abbey National advertising slogans',\n",
       " 'Get the Abbey habit',\n",
       " 'Because life’s complicated enough',\n",
       " 'advertising slogans',\n",
       " 'Access takes the waiting out of wanting',\n",
       " 'Makes sensible buying simple',\n",
       " 'Access – Your Flexible Friend',\n",
       " 'Does you does, or does you don’t take Access?',\n",
       " 'Your flexible friend']"
      ]
     },
     "execution_count": 4,
     "metadata": {},
     "output_type": "execute_result"
    }
   ],
   "source": [
    "# Selección de la información de interés (indicar la etiqueta que contiene la info)\n",
    "\n",
    "allwithstrong = [j.get_text() for j in soup.find_all('span', style=\"color: black;\")[2:]]\n",
    "\n",
    "allwithstrong[:10]"
   ]
  },
  {
   "cell_type": "code",
   "execution_count": 5,
   "metadata": {
    "scrolled": true
   },
   "outputs": [
    {
     "data": {
      "text/plain": [
       "['advertisingslogans',\n",
       " '500commercialslogans,taglines,punchlinesandmarketingmottos.',\n",
       " 'advertslogans,',\n",
       " 'taglines,',\n",
       " 'punchlines',\n",
       " 'mottos',\n",
       " 'sloganortagline',\n",
       " 'A-1SteakSauceadvertisingtagline',\n",
       " 'AbbeyNationaladvertisingslogans',\n",
       " 'AccessCreditCardsloganadvertisingslogans']"
      ]
     },
     "execution_count": 5,
     "metadata": {},
     "output_type": "execute_result"
    }
   ],
   "source": [
    "# Filtrar el nombre de la marca (contenida en la subetiqueta <strong>)\n",
    "\n",
    "# Lista de los valores a eliminar\n",
    "\n",
    "strongs = [i.get_text().replace(\" \", \"\") for i in soup.find_all('strong')]\n",
    "\n",
    "strongs[:10]"
   ]
  },
  {
   "cell_type": "code",
   "execution_count": 6,
   "metadata": {},
   "outputs": [
    {
     "data": {
      "text/plain": [
       "['A-1 makes hamburgers taste like steakburgers',\n",
       " 'Get the Abbey habit',\n",
       " 'Because life’s complicated enough',\n",
       " 'Access takes the waiting out of wanting',\n",
       " 'Makes sensible buying simple',\n",
       " 'Access – Your Flexible Friend',\n",
       " 'Does you does, or does you don’t take Access?',\n",
       " 'Your flexible friend',\n",
       " 'The True Definition of Luxury. Yours.',\n",
       " 'Fresh Squeezed Glaciers']"
      ]
     },
     "execution_count": 6,
     "metadata": {},
     "output_type": "execute_result"
    }
   ],
   "source": [
    "# Selección de los eslóganes (exclusión de las marcas)\n",
    "\n",
    "alls = [x for x in allwithstrong if x.replace(\" \", \"\") not in strongs]\n",
    "\n",
    "alls[:10]"
   ]
  },
  {
   "cell_type": "code",
   "execution_count": 7,
   "metadata": {},
   "outputs": [
    {
     "data": {
      "text/plain": [
       "692"
      ]
     },
     "execution_count": 7,
     "metadata": {},
     "output_type": "execute_result"
    }
   ],
   "source": [
    "# Cantidad total de eslóganes\n",
    "\n",
    "len(alls)"
   ]
  },
  {
   "cell_type": "code",
   "execution_count": 8,
   "metadata": {
    "colab": {},
    "colab_type": "code",
    "id": "HBxfTUICmSGi"
   },
   "outputs": [],
   "source": [
    "# Visualizar el contenido completo de todas las columnas\n",
    "\n",
    "pd.set_option('display.max_colwidth', -1)"
   ]
  },
  {
   "cell_type": "code",
   "execution_count": 9,
   "metadata": {},
   "outputs": [
    {
     "data": {
      "text/html": [
       "<div>\n",
       "<style scoped>\n",
       "    .dataframe tbody tr th:only-of-type {\n",
       "        vertical-align: middle;\n",
       "    }\n",
       "\n",
       "    .dataframe tbody tr th {\n",
       "        vertical-align: top;\n",
       "    }\n",
       "\n",
       "    .dataframe thead th {\n",
       "        text-align: right;\n",
       "    }\n",
       "</style>\n",
       "<table border=\"1\" class=\"dataframe\">\n",
       "  <thead>\n",
       "    <tr style=\"text-align: right;\">\n",
       "      <th></th>\n",
       "      <th>slogans</th>\n",
       "    </tr>\n",
       "  </thead>\n",
       "  <tbody>\n",
       "    <tr>\n",
       "      <th>0</th>\n",
       "      <td>A-1 makes hamburgers taste like steakburgers</td>\n",
       "    </tr>\n",
       "    <tr>\n",
       "      <th>1</th>\n",
       "      <td>Get the Abbey habit</td>\n",
       "    </tr>\n",
       "    <tr>\n",
       "      <th>2</th>\n",
       "      <td>Because life’s complicated enough</td>\n",
       "    </tr>\n",
       "    <tr>\n",
       "      <th>3</th>\n",
       "      <td>Access takes the waiting out of wanting</td>\n",
       "    </tr>\n",
       "    <tr>\n",
       "      <th>4</th>\n",
       "      <td>Makes sensible buying simple</td>\n",
       "    </tr>\n",
       "  </tbody>\n",
       "</table>\n",
       "</div>"
      ],
      "text/plain": [
       "                                        slogans\n",
       "0  A-1 makes hamburgers taste like steakburgers\n",
       "1  Get the Abbey habit                         \n",
       "2  Because life’s complicated enough           \n",
       "3  Access takes the waiting out of wanting     \n",
       "4  Makes sensible buying simple                "
      ]
     },
     "execution_count": 9,
     "metadata": {},
     "output_type": "execute_result"
    }
   ],
   "source": [
    "# Dataframe con los eslóganes extraídos mediande escrapeo\n",
    "\n",
    "slogansDF = pd.DataFrame({\"slogans\": alls})\n",
    "\n",
    "slogansDF.head()"
   ]
  },
  {
   "cell_type": "markdown",
   "metadata": {},
   "source": [
    "## ESQUELETOS"
   ]
  },
  {
   "cell_type": "markdown",
   "metadata": {},
   "source": [
    "### Análisis morfológico"
   ]
  },
  {
   "cell_type": "code",
   "execution_count": 10,
   "metadata": {},
   "outputs": [
    {
     "name": "stdout",
     "output_type": "stream",
     "text": [
      "['CC', 'CD', 'DT', 'EX', 'IN', 'MD', 'PDT', 'POS', 'PRP', 'PRP$', 'RB', 'RBR', 'RBS', 'RP', 'UH', 'TO', 'WDT', 'WP', 'WP$', 'WRB', 'LS', ',', '.']\n"
     ]
    }
   ],
   "source": [
    "# Selección de los tags que deben aparecer en los esqueletos \n",
    "\n",
    "pos_in = [\"CC\", \"CD\", \"DT\", \"EX\", \"IN\", \"MD\", \"PDT\", \"POS\", \"PRP\", \"PRP$\", \"RB\", \"RBR\", \"RBS\", \"RP\", \"UH\", \"TO\", \"WDT\", \"WP\", \"WP$\", \"WRB\", \"LS\", \",\", \".\"]\n",
    "\n",
    "print(pos_in)"
   ]
  },
  {
   "cell_type": "code",
   "execution_count": 11,
   "metadata": {},
   "outputs": [
    {
     "data": {
      "text/html": [
       "<div>\n",
       "<style scoped>\n",
       "    .dataframe tbody tr th:only-of-type {\n",
       "        vertical-align: middle;\n",
       "    }\n",
       "\n",
       "    .dataframe tbody tr th {\n",
       "        vertical-align: top;\n",
       "    }\n",
       "\n",
       "    .dataframe thead th {\n",
       "        text-align: right;\n",
       "    }\n",
       "</style>\n",
       "<table border=\"1\" class=\"dataframe\">\n",
       "  <thead>\n",
       "    <tr style=\"text-align: right;\">\n",
       "      <th></th>\n",
       "      <th>slogans</th>\n",
       "      <th>sloganTagged</th>\n",
       "    </tr>\n",
       "  </thead>\n",
       "  <tbody>\n",
       "    <tr>\n",
       "      <th>0</th>\n",
       "      <td>A-1 makes hamburgers taste like steakburgers</td>\n",
       "      <td>[(a-1, JJ), (makes, VBZ), (hamburgers, NNS), (taste, VBP), (like, IN), (steakburgers, NNS)]</td>\n",
       "    </tr>\n",
       "    <tr>\n",
       "      <th>1</th>\n",
       "      <td>Get the Abbey habit</td>\n",
       "      <td>[(get, VB), (the, DT), (abbey, NN), (habit, NN)]</td>\n",
       "    </tr>\n",
       "    <tr>\n",
       "      <th>2</th>\n",
       "      <td>Because life’s complicated enough</td>\n",
       "      <td>[(because, IN), (life, NN), (’, NNP), (s, NN), (complicated, VBD), (enough, RB)]</td>\n",
       "    </tr>\n",
       "    <tr>\n",
       "      <th>3</th>\n",
       "      <td>Access takes the waiting out of wanting</td>\n",
       "      <td>[(access, NN), (takes, VBZ), (the, DT), (waiting, VBG), (out, IN), (of, IN), (wanting, VBG)]</td>\n",
       "    </tr>\n",
       "    <tr>\n",
       "      <th>4</th>\n",
       "      <td>Makes sensible buying simple</td>\n",
       "      <td>[(makes, VBZ), (sensible, JJ), (buying, NN), (simple, NN)]</td>\n",
       "    </tr>\n",
       "  </tbody>\n",
       "</table>\n",
       "</div>"
      ],
      "text/plain": [
       "                                        slogans  \\\n",
       "0  A-1 makes hamburgers taste like steakburgers   \n",
       "1  Get the Abbey habit                            \n",
       "2  Because life’s complicated enough              \n",
       "3  Access takes the waiting out of wanting        \n",
       "4  Makes sensible buying simple                   \n",
       "\n",
       "                                                                                   sloganTagged  \n",
       "0  [(a-1, JJ), (makes, VBZ), (hamburgers, NNS), (taste, VBP), (like, IN), (steakburgers, NNS)]   \n",
       "1  [(get, VB), (the, DT), (abbey, NN), (habit, NN)]                                              \n",
       "2  [(because, IN), (life, NN), (’, NNP), (s, NN), (complicated, VBD), (enough, RB)]              \n",
       "3  [(access, NN), (takes, VBZ), (the, DT), (waiting, VBG), (out, IN), (of, IN), (wanting, VBG)]  \n",
       "4  [(makes, VBZ), (sensible, JJ), (buying, NN), (simple, NN)]                                    "
      ]
     },
     "execution_count": 11,
     "metadata": {},
     "output_type": "execute_result"
    }
   ],
   "source": [
    "# Añadir una columna al dataframe inicial con el análisis POS_TAG de los eslóganes (división por palabras y transformación a minúsculas)\n",
    "\n",
    "slogansDF['sloganTagged'] = slogansDF['slogans'].apply(lambda x: nltk.pos_tag(nltk.tokenize.word_tokenize(x.lower())))\n",
    "\n",
    "slogansDF.head()"
   ]
  },
  {
   "cell_type": "markdown",
   "metadata": {},
   "source": [
    "### Construcción de esqueletos"
   ]
  },
  {
   "cell_type": "code",
   "execution_count": 12,
   "metadata": {},
   "outputs": [
    {
     "data": {
      "text/html": [
       "<div>\n",
       "<style scoped>\n",
       "    .dataframe tbody tr th:only-of-type {\n",
       "        vertical-align: middle;\n",
       "    }\n",
       "\n",
       "    .dataframe tbody tr th {\n",
       "        vertical-align: top;\n",
       "    }\n",
       "\n",
       "    .dataframe thead th {\n",
       "        text-align: right;\n",
       "    }\n",
       "</style>\n",
       "<table border=\"1\" class=\"dataframe\">\n",
       "  <thead>\n",
       "    <tr style=\"text-align: right;\">\n",
       "      <th></th>\n",
       "      <th>slogans</th>\n",
       "      <th>sloganTagged</th>\n",
       "      <th>sloganSkeleton</th>\n",
       "      <th>sloganAuxi</th>\n",
       "    </tr>\n",
       "  </thead>\n",
       "  <tbody>\n",
       "    <tr>\n",
       "      <th>0</th>\n",
       "      <td>A-1 makes hamburgers taste like steakburgers</td>\n",
       "      <td>[(a-1, JJ), (makes, VBZ), (hamburgers, NNS), (taste, VBP), (like, IN), (steakburgers, NNS)]</td>\n",
       "      <td>[JJ, VBZ, NNS, VBP, like, NNS]</td>\n",
       "      <td>[JJ, VBZ, NNS, VBP, NNS]</td>\n",
       "    </tr>\n",
       "    <tr>\n",
       "      <th>1</th>\n",
       "      <td>Get the Abbey habit</td>\n",
       "      <td>[(get, VB), (the, DT), (abbey, NN), (habit, NN)]</td>\n",
       "      <td>[VB, the, NN, NN]</td>\n",
       "      <td>[VB, NN, NN]</td>\n",
       "    </tr>\n",
       "    <tr>\n",
       "      <th>2</th>\n",
       "      <td>Because life’s complicated enough</td>\n",
       "      <td>[(because, IN), (life, NN), (’, NNP), (s, NN), (complicated, VBD), (enough, RB)]</td>\n",
       "      <td>[because, NN, NNP, NN, VBD, enough]</td>\n",
       "      <td>[NN, NNP, NN, VBD]</td>\n",
       "    </tr>\n",
       "    <tr>\n",
       "      <th>3</th>\n",
       "      <td>Access takes the waiting out of wanting</td>\n",
       "      <td>[(access, NN), (takes, VBZ), (the, DT), (waiting, VBG), (out, IN), (of, IN), (wanting, VBG)]</td>\n",
       "      <td>[NN, VBZ, the, VBG, out, of, VBG]</td>\n",
       "      <td>[NN, VBZ, VBG, VBG]</td>\n",
       "    </tr>\n",
       "    <tr>\n",
       "      <th>4</th>\n",
       "      <td>Makes sensible buying simple</td>\n",
       "      <td>[(makes, VBZ), (sensible, JJ), (buying, NN), (simple, NN)]</td>\n",
       "      <td>[VBZ, JJ, NN, NN]</td>\n",
       "      <td>[VBZ, JJ, NN, NN]</td>\n",
       "    </tr>\n",
       "  </tbody>\n",
       "</table>\n",
       "</div>"
      ],
      "text/plain": [
       "                                        slogans  \\\n",
       "0  A-1 makes hamburgers taste like steakburgers   \n",
       "1  Get the Abbey habit                            \n",
       "2  Because life’s complicated enough              \n",
       "3  Access takes the waiting out of wanting        \n",
       "4  Makes sensible buying simple                   \n",
       "\n",
       "                                                                                   sloganTagged  \\\n",
       "0  [(a-1, JJ), (makes, VBZ), (hamburgers, NNS), (taste, VBP), (like, IN), (steakburgers, NNS)]    \n",
       "1  [(get, VB), (the, DT), (abbey, NN), (habit, NN)]                                               \n",
       "2  [(because, IN), (life, NN), (’, NNP), (s, NN), (complicated, VBD), (enough, RB)]               \n",
       "3  [(access, NN), (takes, VBZ), (the, DT), (waiting, VBG), (out, IN), (of, IN), (wanting, VBG)]   \n",
       "4  [(makes, VBZ), (sensible, JJ), (buying, NN), (simple, NN)]                                     \n",
       "\n",
       "                        sloganSkeleton                sloganAuxi  \n",
       "0  [JJ, VBZ, NNS, VBP, like, NNS]       [JJ, VBZ, NNS, VBP, NNS]  \n",
       "1  [VB, the, NN, NN]                    [VB, NN, NN]              \n",
       "2  [because, NN, NNP, NN, VBD, enough]  [NN, NNP, NN, VBD]        \n",
       "3  [NN, VBZ, the, VBG, out, of, VBG]    [NN, VBZ, VBG, VBG]       \n",
       "4  [VBZ, JJ, NN, NN]                    [VBZ, JJ, NN, NN]         "
      ]
     },
     "execution_count": 12,
     "metadata": {},
     "output_type": "execute_result"
    }
   ],
   "source": [
    "# Creo dos listas vacías\n",
    "\n",
    "allSkeletons = []\n",
    "allAuxis = []\n",
    "\n",
    "# Recorro cada sloganTagged\n",
    "\n",
    "for index,slogan in enumerate(slogansDF.sloganTagged):\n",
    "    \n",
    "    # Creo dos listas vacías (esqueletos y palabras auxiliares(keywords))\n",
    "    \n",
    "    skeleton = []\n",
    "    \n",
    "    auxi = []\n",
    "    \n",
    "    # Recorro cada palabra con su tag asociado \n",
    "    \n",
    "    for pair in slogan:\n",
    "        \n",
    "        # Si el tag coincide con alguno de los acordados como parte de esqueleto, se añade la palabra a la lista de esqueleto\n",
    "        \n",
    "        if pair[1] in pos_in:\n",
    "            \n",
    "            skeleton.append(pair[0])\n",
    "            \n",
    "        # Si el tag no coincide con alguno de los acordados como parte de esqueleto, se añade el tag a la lista de auxis y a la lista de esqueletos\n",
    "           \n",
    "        else:\n",
    "            \n",
    "            skeleton.append(pair[1])\n",
    "            auxi.append(pair[1])\n",
    "            \n",
    "    # Creamos una lista con todos los esqueletos y auxiliares generados por eslogan\n",
    "    \n",
    "    allSkeletons.append(skeleton)\n",
    "    \n",
    "    allAuxis.append(auxi)\n",
    "\n",
    "# Añadimos dos columnas al datafreame inical (sloganSkeleton y sloganAuxi)\n",
    "\n",
    "slogansDF['sloganSkeleton'] = allSkeletons\n",
    "\n",
    "slogansDF['sloganAuxi'] = allAuxis\n",
    "\n",
    "slogansDF.head()"
   ]
  },
  {
   "cell_type": "code",
   "execution_count": 13,
   "metadata": {},
   "outputs": [],
   "source": [
    "# Eliminación de filas tras una exploración visual de los datos por inviabilidad de generar eslóganes correctos a partir de ellos\n",
    "\n",
    "slogansDF = slogansDF[~slogansDF[\"slogans\"].str.contains(\"Britvic\")].reset_index(drop=True)\n",
    "\n",
    "slogansDF = slogansDF[~slogansDF[\"slogans\"].str.contains(\"Is it in you?\")].reset_index(drop=True)\n",
    "\n",
    "slogansDF = slogansDF[~slogansDF[\"slogans\"].str.contains(\"Drink Camp - its the best\")].reset_index(drop=True)\n",
    "\n",
    "slogansDF = slogansDF[~slogansDF[\"slogans\"].str.contains(\"night drink, 1960s\")].reset_index(drop=True)"
   ]
  },
  {
   "cell_type": "markdown",
   "metadata": {},
   "source": [
    "### Exploración de datos"
   ]
  },
  {
   "cell_type": "code",
   "execution_count": 14,
   "metadata": {},
   "outputs": [
    {
     "data": {
      "text/html": [
       "<div>\n",
       "<style scoped>\n",
       "    .dataframe tbody tr th:only-of-type {\n",
       "        vertical-align: middle;\n",
       "    }\n",
       "\n",
       "    .dataframe tbody tr th {\n",
       "        vertical-align: top;\n",
       "    }\n",
       "\n",
       "    .dataframe thead th {\n",
       "        text-align: right;\n",
       "    }\n",
       "</style>\n",
       "<table border=\"1\" class=\"dataframe\">\n",
       "  <thead>\n",
       "    <tr style=\"text-align: right;\">\n",
       "      <th></th>\n",
       "      <th>slogans</th>\n",
       "      <th>sloganTagged</th>\n",
       "      <th>sloganSkeleton</th>\n",
       "      <th>sloganAuxi</th>\n",
       "      <th>auxiCount</th>\n",
       "    </tr>\n",
       "  </thead>\n",
       "  <tbody>\n",
       "    <tr>\n",
       "      <th>0</th>\n",
       "      <td>A-1 makes hamburgers taste like steakburgers</td>\n",
       "      <td>[(a-1, JJ), (makes, VBZ), (hamburgers, NNS), (taste, VBP), (like, IN), (steakburgers, NNS)]</td>\n",
       "      <td>[JJ, VBZ, NNS, VBP, like, NNS]</td>\n",
       "      <td>[JJ, VBZ, NNS, VBP, NNS]</td>\n",
       "      <td>5</td>\n",
       "    </tr>\n",
       "    <tr>\n",
       "      <th>1</th>\n",
       "      <td>Get the Abbey habit</td>\n",
       "      <td>[(get, VB), (the, DT), (abbey, NN), (habit, NN)]</td>\n",
       "      <td>[VB, the, NN, NN]</td>\n",
       "      <td>[VB, NN, NN]</td>\n",
       "      <td>3</td>\n",
       "    </tr>\n",
       "    <tr>\n",
       "      <th>2</th>\n",
       "      <td>Because life’s complicated enough</td>\n",
       "      <td>[(because, IN), (life, NN), (’, NNP), (s, NN), (complicated, VBD), (enough, RB)]</td>\n",
       "      <td>[because, NN, NNP, NN, VBD, enough]</td>\n",
       "      <td>[NN, NNP, NN, VBD]</td>\n",
       "      <td>4</td>\n",
       "    </tr>\n",
       "    <tr>\n",
       "      <th>3</th>\n",
       "      <td>Access takes the waiting out of wanting</td>\n",
       "      <td>[(access, NN), (takes, VBZ), (the, DT), (waiting, VBG), (out, IN), (of, IN), (wanting, VBG)]</td>\n",
       "      <td>[NN, VBZ, the, VBG, out, of, VBG]</td>\n",
       "      <td>[NN, VBZ, VBG, VBG]</td>\n",
       "      <td>4</td>\n",
       "    </tr>\n",
       "    <tr>\n",
       "      <th>4</th>\n",
       "      <td>Makes sensible buying simple</td>\n",
       "      <td>[(makes, VBZ), (sensible, JJ), (buying, NN), (simple, NN)]</td>\n",
       "      <td>[VBZ, JJ, NN, NN]</td>\n",
       "      <td>[VBZ, JJ, NN, NN]</td>\n",
       "      <td>4</td>\n",
       "    </tr>\n",
       "  </tbody>\n",
       "</table>\n",
       "</div>"
      ],
      "text/plain": [
       "                                        slogans  \\\n",
       "0  A-1 makes hamburgers taste like steakburgers   \n",
       "1  Get the Abbey habit                            \n",
       "2  Because life’s complicated enough              \n",
       "3  Access takes the waiting out of wanting        \n",
       "4  Makes sensible buying simple                   \n",
       "\n",
       "                                                                                   sloganTagged  \\\n",
       "0  [(a-1, JJ), (makes, VBZ), (hamburgers, NNS), (taste, VBP), (like, IN), (steakburgers, NNS)]    \n",
       "1  [(get, VB), (the, DT), (abbey, NN), (habit, NN)]                                               \n",
       "2  [(because, IN), (life, NN), (’, NNP), (s, NN), (complicated, VBD), (enough, RB)]               \n",
       "3  [(access, NN), (takes, VBZ), (the, DT), (waiting, VBG), (out, IN), (of, IN), (wanting, VBG)]   \n",
       "4  [(makes, VBZ), (sensible, JJ), (buying, NN), (simple, NN)]                                     \n",
       "\n",
       "                        sloganSkeleton                sloganAuxi  auxiCount  \n",
       "0  [JJ, VBZ, NNS, VBP, like, NNS]       [JJ, VBZ, NNS, VBP, NNS]  5          \n",
       "1  [VB, the, NN, NN]                    [VB, NN, NN]              3          \n",
       "2  [because, NN, NNP, NN, VBD, enough]  [NN, NNP, NN, VBD]        4          \n",
       "3  [NN, VBZ, the, VBG, out, of, VBG]    [NN, VBZ, VBG, VBG]       4          \n",
       "4  [VBZ, JJ, NN, NN]                    [VBZ, JJ, NN, NN]         4          "
      ]
     },
     "execution_count": 14,
     "metadata": {},
     "output_type": "execute_result"
    }
   ],
   "source": [
    "# Añadir una columna con el conteo de las palabras auxiliares necesarias para formar el eslogan\n",
    "\n",
    "slogansDF['auxiCount'] = [len(x) for x in slogansDF.sloganAuxi]\n",
    "slogansDF.head()"
   ]
  },
  {
   "cell_type": "code",
   "execution_count": 15,
   "metadata": {},
   "outputs": [
    {
     "data": {
      "image/png": "[encoded data removed]",
      "text/plain": [
       "<Figure size 432x288 with 1 Axes>"
      ]
     },
     "metadata": {
      "needs_background": "light"
     },
     "output_type": "display_data"
    }
   ],
   "source": [
    "# Histograma de cantidad de palabras auxiliares por eslogan\n",
    "\n",
    "auxiCountHist = sns.countplot(x=\"auxiCount\", data=slogansDF, palette=\"Set3\")"
   ]
  },
  {
   "cell_type": "code",
   "execution_count": 16,
   "metadata": {},
   "outputs": [
    {
     "data": {
      "text/plain": [
       "4.214804063860668"
      ]
     },
     "execution_count": 16,
     "metadata": {},
     "output_type": "execute_result"
    }
   ],
   "source": [
    "# Media de auxis requeridos por eslogan\n",
    "\n",
    "mean = slogansDF.auxiCount.mean()\n",
    "mean"
   ]
  },
  {
   "cell_type": "code",
   "execution_count": 17,
   "metadata": {},
   "outputs": [
    {
     "data": {
      "text/plain": [
       "5.0"
      ]
     },
     "execution_count": 17,
     "metadata": {},
     "output_type": "execute_result"
    }
   ],
   "source": [
    "# 3er cuartil \n",
    "\n",
    "quant = slogansDF.auxiCount.quantile(q=0.75)\n",
    "quant"
   ]
  },
  {
   "cell_type": "code",
   "execution_count": 18,
   "metadata": {},
   "outputs": [],
   "source": [
    "# Selección de las eslóganes que requieran 5 o menos palabras auxiliares pero más de 0 (si no sería plagio)\n",
    "\n",
    "slogansDF = slogansDF[slogansDF['auxiCount']<6].reset_index()\n",
    "slogansDF = slogansDF[slogansDF['auxiCount']>0].reset_index()"
   ]
  },
  {
   "cell_type": "code",
   "execution_count": 19,
   "metadata": {},
   "outputs": [
    {
     "data": {
      "image/png": "[encoded data removed]",
      "text/plain": [
       "<Figure size 432x288 with 1 Axes>"
      ]
     },
     "metadata": {
      "needs_background": "light"
     },
     "output_type": "display_data"
    }
   ],
   "source": [
    "# Histograma del dataset filtrado\n",
    "\n",
    "auxiCountHist = sns.countplot(x=\"auxiCount\", data=slogansDF, palette=\"Set3\")"
   ]
  },
  {
   "cell_type": "code",
   "execution_count": 20,
   "metadata": {},
   "outputs": [],
   "source": [
    "# Distribución de los tipos de tags de las palabras auxiliares\n",
    "\n",
    "ratioAuxiTags = dict.fromkeys(['nouns', 'verbs', 'adjs', 'other'])\n",
    "\n",
    "c_N=0\n",
    "c_V=0\n",
    "c_A=0\n",
    "c_O=0\n",
    "\n",
    "# Recorrer cada auxi\n",
    "for auxi in slogansDF.sloganAuxi:\n",
    "    \n",
    "    # Recorrer cada tag del auxi\n",
    "    for elem in auxi:\n",
    "        \n",
    "        # Si el tag es un nombre...\n",
    "        if elem.startswith('N'):\n",
    "            \n",
    "            # incrementa el contador y actualiza el dato de la coulmna \"nouns\"\n",
    "            c_N += 1\n",
    "            ratioAuxiTags['nouns'] = c_N\n",
    "                    \n",
    "        # Si el tag es un verbo...           \n",
    "        if elem.startswith('V'):\n",
    "            \n",
    "            # incrementa el contador y actualiza el dato de la coulmna \"verbs\"\n",
    "            c_V += 1\n",
    "            ratioAuxiTags['verbs'] = c_V\n",
    "        \n",
    "        # Si el tag es un adjetivo...        \n",
    "        if elem.startswith('J'):\n",
    "\n",
    "            # Incrementa el contador y actualiza el dato de la coulmna \"adjs\"\n",
    "            c_A += 1\n",
    "            ratioAuxiTags['adjs'] = c_A\n",
    "            \n",
    "        # Si el tag es un símbolo o carcater extraño... \n",
    "        else:\n",
    "            \n",
    "            # Incrementa el contador y actualiza el dato de la coulmna \"other\"\n",
    "            c_O += 1\n",
    "            ratioAuxiTags['other'] = c_O"
   ]
  },
  {
   "cell_type": "code",
   "execution_count": 21,
   "metadata": {},
   "outputs": [
    {
     "data": {
      "image/png": "[encoded data removed]",
      "text/plain": [
       "<Figure size 432x288 with 1 Axes>"
      ]
     },
     "metadata": {
      "needs_background": "light"
     },
     "output_type": "display_data"
    }
   ],
   "source": [
    "# Histograma categoría de tags (nombres, verbos y adjetivos) de los auxis - other (tags de simbolos y caracteres extraños)\n",
    "\n",
    "plt.bar(ratioAuxiTags.keys(), ratioAuxiTags.values(), color='grey')\n",
    "\n",
    "plt.show()"
   ]
  },
  {
   "cell_type": "markdown",
   "metadata": {},
   "source": [
    "## KEYWORDS"
   ]
  },
  {
   "cell_type": "markdown",
   "metadata": {},
   "source": [
    "### TF-IDF"
   ]
  },
  {
   "cell_type": "code",
   "execution_count": 22,
   "metadata": {},
   "outputs": [],
   "source": [
    "# Fortune-500 descripciones\n",
    "\n",
    "# Leer y generar dataset con el nombre de las compañías\n",
    "\n",
    "#brandsF500 = pd.read_excel('brandsF500.xlsx')\n",
    "\n",
    "# Configurar el idioma de la API de Wikipedia (inglés)\n",
    "\n",
    "#wiki_wiki = wikipediaapi.Wikipedia('en')\n",
    "\n",
    "# crear una lista vacía donde se irán añadiendo cada una de las descripciones\n",
    "\n",
    "description = []\n",
    "\n",
    "# Recorrer por filas el dtaaset\n",
    "\n",
    "#for brand in brandsF500.brand:\n",
    "      \n",
    "    # Extraer el texto de cada compañía conectando con la API\n",
    "    \n",
    "    #description.append(wiki_wiki.page(brand).text)\n",
    "    \n",
    "# Crear un datframe donde cada fila contenga una descripción  \n",
    "\n",
    "#brandsF500['brandDescription'] = description\n",
    "\n",
    "# Volvar el resultado en un excel\n",
    "\n",
    "#corpus_500 = brandsF500.brandDescription.to_excel('brandDescriptions500.xlsx')"
   ]
  },
  {
   "cell_type": "code",
   "execution_count": 23,
   "metadata": {},
   "outputs": [
    {
     "name": "stdout",
     "output_type": "stream",
     "text": [
      "Insert a brand to create a slogan from: Tesla\n"
     ]
    }
   ],
   "source": [
    "# Extraer y añadir la descripción de la compañía de la que queremos obtener el eslogan\n",
    "\n",
    "wiki_wiki = wikipediaapi.Wikipedia('en')\n",
    "\n",
    "try:\n",
    "    # Acceder a la página de Wikipedia de la compañía \n",
    "    \n",
    "    brandWiki = wiki_wiki.page(input(\"Insert a brand to create a slogan from: \"))\n",
    "    \n",
    "# En caso de que haya varias opciones, se muestran y el usuario escoge la correcta\n",
    "\n",
    "except wiki_wiki.exceptions.DisambiguationError as e:\n",
    "    \n",
    "    print('\\n',e.options)\n",
    "    \n",
    "    brandWiki = wiki_wiki.page(input(\"\\nChoose one of the above: \"))"
   ]
  },
  {
   "cell_type": "code",
   "execution_count": 24,
   "metadata": {},
   "outputs": [],
   "source": [
    "# Guardamos el nombre de la compañía en una variable\n",
    "\n",
    "brandWikiTitle = brandWiki.title\n",
    "\n",
    "# Guardamos la descripción de Wikipedia de la compañía en otra variable\n",
    "\n",
    "brandWikiDescription = brandWiki.text"
   ]
  },
  {
   "cell_type": "code",
   "execution_count": 25,
   "metadata": {},
   "outputs": [],
   "source": [
    "# Creamos el Corpus\n",
    "\n",
    "# Cargar dataset Fortune500\n",
    "\n",
    "corpus500 = pd.read_excel('brandDescriptions500.xlsx')\n",
    "\n",
    "# añadimos al dataset con las descripciones de Fortune500 la descripción de la nueva compañía\n",
    "\n",
    "corpusTot = corpus500.append(pd.DataFrame({'brandDescription': [brandWikiDescription]}))"
   ]
  },
  {
   "cell_type": "code",
   "execution_count": 26,
   "metadata": {},
   "outputs": [],
   "source": [
    "# TFIDF\n",
    "\n",
    "# Configuramos la función TfidfVectorizer (excluir stopwords, palabras alfanuméricas y que contengan alguna letra mayúscula)\n",
    "\n",
    "tfidfVectorizer = TfidfVectorizer(stop_words = 'english', token_pattern= r'\\b[^\\d\\W]+\\b', lowercase = False)\n",
    "\n",
    "# Aplicamos la función al corpus y guardamos el resultado en una matriz\n",
    "\n",
    "tfidfMatrix = tfidfVectorizer.fit_transform(corpusTot['brandDescription'].values.astype('U'))"
   ]
  },
  {
   "cell_type": "code",
   "execution_count": 27,
   "metadata": {},
   "outputs": [
    {
     "name": "stdout",
     "output_type": "stream",
     "text": [
      "['wrongly', 'wrote', 'wrung', 'www', 'x', 'xcelenergy', 'xenon', 'xeriscape', 'xerographic', 'xerography']\n"
     ]
    }
   ],
   "source": [
    "# Extraemos cada una de las palabras que componenen el TF-IDF --> bowT\n",
    "\n",
    "bowT = tfidfVectorizer.get_feature_names()\n",
    "\n",
    "print(bowT[-80:-70])"
   ]
  },
  {
   "cell_type": "code",
   "execution_count": 28,
   "metadata": {},
   "outputs": [
    {
     "name": "stdout",
     "output_type": "stream",
     "text": [
      "[[0.02325038 0.         0.         ... 0.         0.         0.        ]\n",
      " [0.00399731 0.         0.         ... 0.         0.         0.        ]\n",
      " [0.03018127 0.         0.         ... 0.         0.         0.        ]\n",
      " ...\n",
      " [0.02706676 0.         0.         ... 0.         0.         0.        ]\n",
      " [0.01109421 0.         0.         ... 0.         0.         0.        ]\n",
      " [0.         0.         0.         ... 0.         0.         0.        ]]\n"
     ]
    }
   ],
   "source": [
    "# Convertimos la matriz TF-IDF a un array\n",
    "\n",
    "listsTfidf = tfidfMatrix.toarray()\n",
    "\n",
    "print(listsTfidf)"
   ]
  },
  {
   "cell_type": "code",
   "execution_count": 29,
   "metadata": {},
   "outputs": [],
   "source": [
    "# Creamos el diccionario TFIDF\n",
    "\n",
    "# Cogemos sólo el último elemento del array (descripción de la nueva compañía)\n",
    "    \n",
    "listTfidf = listsTfidf[-1]\n",
    "\n",
    "# Creamos un diccionario vacío\n",
    "\n",
    "dictT = {}\n",
    "\n",
    "# Recorremos cada palabra y su posición en el bowT\n",
    "\n",
    "for index, word in enumerate(bowT):\n",
    "    \n",
    "    # Excluimos las palabras con una longitud menor o igual que dos y que contengan mayúsculas\n",
    "    \n",
    "    if len(word) > 2 and word.islower():\n",
    "        \n",
    "        # Añadimos al diccionario el TF-IDF asociado a cada palabra\n",
    "        \n",
    "        dictT[word] = listTfidf[index]"
   ]
  },
  {
   "cell_type": "code",
   "execution_count": 30,
   "metadata": {},
   "outputs": [
    {
     "data": {
      "text/html": [
       "<div>\n",
       "<style scoped>\n",
       "    .dataframe tbody tr th:only-of-type {\n",
       "        vertical-align: middle;\n",
       "    }\n",
       "\n",
       "    .dataframe tbody tr th {\n",
       "        vertical-align: top;\n",
       "    }\n",
       "\n",
       "    .dataframe thead th {\n",
       "        text-align: right;\n",
       "    }\n",
       "</style>\n",
       "<table border=\"1\" class=\"dataframe\">\n",
       "  <thead>\n",
       "    <tr style=\"text-align: right;\">\n",
       "      <th></th>\n",
       "      <th>abandon</th>\n",
       "      <th>abandoned</th>\n",
       "      <th>abandoning</th>\n",
       "      <th>abandonment</th>\n",
       "      <th>abate</th>\n",
       "      <th>abated</th>\n",
       "      <th>abatement</th>\n",
       "      <th>abbreviated</th>\n",
       "      <th>abbreviation</th>\n",
       "      <th>abc</th>\n",
       "      <th>...</th>\n",
       "      <th>zoom</th>\n",
       "      <th>zoro</th>\n",
       "      <th>zoxamide</th>\n",
       "      <th>zuf</th>\n",
       "      <th>zus</th>\n",
       "      <th>zən</th>\n",
       "      <th>électrique</th>\n",
       "      <th>études</th>\n",
       "      <th>ʃlœ</th>\n",
       "      <th>ﬂavors</th>\n",
       "    </tr>\n",
       "  </thead>\n",
       "  <tbody>\n",
       "    <tr>\n",
       "      <th>0</th>\n",
       "      <td>0.0</td>\n",
       "      <td>0.0</td>\n",
       "      <td>0.0</td>\n",
       "      <td>0.0</td>\n",
       "      <td>0.0</td>\n",
       "      <td>0.0</td>\n",
       "      <td>0.0</td>\n",
       "      <td>0.0</td>\n",
       "      <td>0.0</td>\n",
       "      <td>0.0</td>\n",
       "      <td>...</td>\n",
       "      <td>0.0</td>\n",
       "      <td>0.0</td>\n",
       "      <td>0.0</td>\n",
       "      <td>0.0</td>\n",
       "      <td>0.0</td>\n",
       "      <td>0.0</td>\n",
       "      <td>0.0</td>\n",
       "      <td>0.0</td>\n",
       "      <td>0.0</td>\n",
       "      <td>0.0</td>\n",
       "    </tr>\n",
       "  </tbody>\n",
       "</table>\n",
       "<p>1 rows × 18118 columns</p>\n",
       "</div>"
      ],
      "text/plain": [
       "   abandon  abandoned  abandoning  abandonment  abate  abated  abatement  \\\n",
       "0  0.0      0.0        0.0         0.0          0.0    0.0     0.0         \n",
       "\n",
       "   abbreviated  abbreviation  abc   ...    zoom  zoro  zoxamide  zuf  zus  \\\n",
       "0  0.0          0.0           0.0   ...    0.0   0.0   0.0       0.0  0.0   \n",
       "\n",
       "   zən  électrique  études  ʃlœ  ﬂavors  \n",
       "0  0.0  0.0         0.0     0.0  0.0     \n",
       "\n",
       "[1 rows x 18118 columns]"
      ]
     },
     "execution_count": 30,
     "metadata": {},
     "output_type": "execute_result"
    }
   ],
   "source": [
    "# Pasamos de diccionario a dataframe TF-IDF\n",
    "\n",
    "tfidfFiltered = pd.DataFrame(dictT, index=[0])\n",
    "\n",
    "tfidfFiltered.head()"
   ]
  },
  {
   "cell_type": "markdown",
   "metadata": {},
   "source": [
    "### TF (Count Vectorizer)"
   ]
  },
  {
   "cell_type": "code",
   "execution_count": 31,
   "metadata": {},
   "outputs": [],
   "source": [
    "# CountVectorizer\n",
    "\n",
    "# Configuramos la función countVectorizer (excluir stopwords, palabras alfanuméricas y que contengan alguna letra mayúscula)\n",
    "\n",
    "countVectorizer = CountVectorizer(stop_words = 'english', token_pattern= r'\\b[^\\d\\W]+\\b', lowercase = False)\n",
    "\n",
    "# Aplicamos la función a la descripción de la nueva compañía y guardamos el resultado en una matriz\n",
    "\n",
    "countMatrix = countVectorizer.fit_transform([brandWikiDescription])"
   ]
  },
  {
   "cell_type": "code",
   "execution_count": 32,
   "metadata": {},
   "outputs": [
    {
     "name": "stdout",
     "output_type": "stream",
     "text": [
      "['Serbian', 'Superconducting', 'T', 'Teraelectronvolt', 'Tesla', 'TeslaTesla', 'They', 'US', 'Valley', 'Virginia']\n"
     ]
    }
   ],
   "source": [
    "# Extraemos cada una de las palabras que aparecen la descripción --> bowC\n",
    "\n",
    "bowC = countVectorizer.get_feature_names()\n",
    "\n",
    "print(bowC[-80:-70])"
   ]
  },
  {
   "cell_type": "code",
   "execution_count": 33,
   "metadata": {},
   "outputs": [
    {
     "name": "stdout",
     "output_type": "stream",
     "text": [
      "[[ 1  2  4  1  2  1  1  1  1  1  1  1  1  1  1  1  1  1  1  1  1  1  1  1\n",
      "   1  1  1  1  1  1  1  1  2  2  1  1  1  1  1  1  2 10  2  1  1  1  1  1\n",
      "   2  1  1  1  1  1 31  1  1  3  1  1  1  1  1  1  1  1  1  2  1  1  1  1\n",
      "   1  1  1  1  5  1  1  2  1  1  1  1  1  1  1  1  1  1  2  1  1  1  1  1\n",
      "   1  1  1  3  1  1  3  1  1  1  2  1  1  1  1  1  2  1  1  1  1  1  1  1\n",
      "   1  1  1  2  1  2  1  1  1  2]]\n"
     ]
    }
   ],
   "source": [
    "# Convertimos la matriz CountVectorizer en un array\n",
    "\n",
    "listCount = countMatrix.toarray()\n",
    "\n",
    "print(listCount)"
   ]
  },
  {
   "cell_type": "code",
   "execution_count": 34,
   "metadata": {},
   "outputs": [
    {
     "name": "stdout",
     "output_type": "stream",
     "text": [
      "{'preserving': 1, 'project': 1, 'proposed': 2, 'refer': 1, 'refers': 1, 'resonant': 1, 'rock': 1, 'science': 1, 'seismically': 1, 'song': 1}\n"
     ]
    }
   ],
   "source": [
    "# Creamos el diccionario de CountVectorizer\n",
    "\n",
    "# Creamos un diccionario vacío\n",
    "\n",
    "dictC = {}\n",
    "\n",
    "# Recorremos cada palabra y su posición en el bowC\n",
    "\n",
    "for index, word in enumerate(bowC):\n",
    "    \n",
    "    # Excluimos las  palabras que tienen una longitud igual o menor que dos y contengan mayúsculas\n",
    "    \n",
    "    if len(word) > 2 and word.islower():\n",
    "        \n",
    "        # Creamos un diccionario con cada palabra y su conteo\n",
    "        \n",
    "        dictC[word] = listCount[0][index]\n",
    "\n",
    "print(dict(list(dictC.items())[-20:-10]))"
   ]
  },
  {
   "cell_type": "code",
   "execution_count": 35,
   "metadata": {},
   "outputs": [
    {
     "data": {
      "text/html": [
       "<div>\n",
       "<style scoped>\n",
       "    .dataframe tbody tr th:only-of-type {\n",
       "        vertical-align: middle;\n",
       "    }\n",
       "\n",
       "    .dataframe tbody tr th {\n",
       "        vertical-align: top;\n",
       "    }\n",
       "\n",
       "    .dataframe thead th {\n",
       "        text-align: right;\n",
       "    }\n",
       "</style>\n",
       "<table border=\"1\" class=\"dataframe\">\n",
       "  <thead>\n",
       "    <tr style=\"text-align: right;\">\n",
       "      <th></th>\n",
       "      <th>active</th>\n",
       "      <th>asteroid</th>\n",
       "      <th>automotive</th>\n",
       "      <th>band</th>\n",
       "      <th>beginning</th>\n",
       "      <th>brand</th>\n",
       "      <th>cards</th>\n",
       "      <th>circuit</th>\n",
       "      <th>coal</th>\n",
       "      <th>coil</th>\n",
       "      <th>...</th>\n",
       "      <th>space</th>\n",
       "      <th>state</th>\n",
       "      <th>symbol</th>\n",
       "      <th>technology</th>\n",
       "      <th>things</th>\n",
       "      <th>titles</th>\n",
       "      <th>town</th>\n",
       "      <th>transformer</th>\n",
       "      <th>type</th>\n",
       "      <th>unit</th>\n",
       "    </tr>\n",
       "  </thead>\n",
       "  <tbody>\n",
       "    <tr>\n",
       "      <th>0</th>\n",
       "      <td>1</td>\n",
       "      <td>1</td>\n",
       "      <td>1</td>\n",
       "      <td>2</td>\n",
       "      <td>1</td>\n",
       "      <td>1</td>\n",
       "      <td>1</td>\n",
       "      <td>1</td>\n",
       "      <td>1</td>\n",
       "      <td>1</td>\n",
       "      <td>...</td>\n",
       "      <td>1</td>\n",
       "      <td>1</td>\n",
       "      <td>1</td>\n",
       "      <td>2</td>\n",
       "      <td>1</td>\n",
       "      <td>2</td>\n",
       "      <td>1</td>\n",
       "      <td>1</td>\n",
       "      <td>1</td>\n",
       "      <td>2</td>\n",
       "    </tr>\n",
       "  </tbody>\n",
       "</table>\n",
       "<p>1 rows × 66 columns</p>\n",
       "</div>"
      ],
      "text/plain": [
       "   active  asteroid  automotive  band  beginning  brand  cards  circuit  coal  \\\n",
       "0  1       1         1           2     1          1      1      1        1      \n",
       "\n",
       "   coil  ...   space  state  symbol  technology  things  titles  town  \\\n",
       "0  1     ...   1      1      1       2           1       2       1      \n",
       "\n",
       "   transformer  type  unit  \n",
       "0  1            1     2     \n",
       "\n",
       "[1 rows x 66 columns]"
      ]
     },
     "execution_count": 35,
     "metadata": {},
     "output_type": "execute_result"
    }
   ],
   "source": [
    "# Pasamos de diccionario a dataframe CountVectorizer\n",
    "\n",
    "countFiltered = pd.DataFrame(dictC, index=[0])\n",
    "countFiltered"
   ]
  },
  {
   "cell_type": "markdown",
   "metadata": {},
   "source": [
    "### Wordcloud"
   ]
  },
  {
   "cell_type": "code",
   "execution_count": 36,
   "metadata": {},
   "outputs": [],
   "source": [
    "# Lemmatizamos la bowT para la visualización de la WordCloud\n",
    "\n",
    "# Creamo un diccionario vacío\n",
    "\n",
    "dictTLemma = {}\n",
    "\n",
    "# Creamos una lista vacía\n",
    "\n",
    "keysLemma = []\n",
    "\n",
    "# Recorremos cada key del diccionario TF-IDF\n",
    "\n",
    "for key in dictT:\n",
    "    \n",
    "    # Lematizamos la palabra\n",
    "    \n",
    "    keyLemma = nltk.stem.WordNetLemmatizer().lemmatize(key)\n",
    "\n",
    "    # Si la palabra lematizada no está contenida en la lista de keysLemma, la añadimos\n",
    "    \n",
    "    if keyLemma not in keysLemma:\n",
    "        \n",
    "        # Añadimos la palabra y el resultado del TF-IDF al diccionario vacío TF-IDF_lemmas\n",
    "        \n",
    "        dictTLemma[keyLemma] = dictT[key]\n",
    "        \n",
    "        # Añadimos la palabra a la lista de palabras lematizadas\n",
    "        \n",
    "        keysLemma.append(keyLemma)\n",
    "    \n",
    "    # Si la palabra ya existe en la lista de palabras lemmatizadas, adicionamos su valor de TF-IDF a la key correspondiente\n",
    "    \n",
    "    else: \n",
    "        \n",
    "        dictTLemma[keyLemma] += dictT[key]\n",
    "    "
   ]
  },
  {
   "cell_type": "code",
   "execution_count": null,
   "metadata": {},
   "outputs": [],
   "source": [
    "# Wordcloud\n",
    "\n",
    "# Configuramos la función (excluimos las stopwords, determinamos el color y tamaño de la imagen) y la aplicamos al diccionario creado con Tf-IDF de los lemas\n",
    "\n",
    "wordcloud = WordCloud(stopwords=STOPWORDS, background_color='white', width=3500,height=3000).fit_words(dictTLemma)\n",
    "\n",
    "# Visualizamos el resultado\n",
    "\n",
    "plt.figure(1,figsize=(10, 10))\n",
    "plt.imshow(wordcloud)\n",
    "plt.axis('off')\n",
    "plt.show()"
   ]
  },
  {
   "cell_type": "markdown",
   "metadata": {},
   "source": [
    "## Extracción de Keywords"
   ]
  },
  {
   "cell_type": "code",
   "execution_count": 40,
   "metadata": {},
   "outputs": [],
   "source": [
    "# Retomamos el diccionario original y ordenamos las palabras de mayor a menor TF-IDF\n",
    "\n",
    "topWords = Counter(dictT).most_common()"
   ]
  },
  {
   "cell_type": "markdown",
   "metadata": {},
   "source": [
    "### Filtrado - Tags"
   ]
  },
  {
   "cell_type": "code",
   "execution_count": 41,
   "metadata": {},
   "outputs": [
    {
     "name": "stdout",
     "output_type": "stream",
     "text": [
      "[('microarchitecture', 'NN'), ('crater', 'NN'), ('band', 'NN'), ('titles', 'NNS'), ('pages', 'NNS'), ('film', 'NN'), ('collider', 'NN'), ('flux', 'VB'), ('honour', 'JJ'), ('particle', 'NN')]\n"
     ]
    }
   ],
   "source": [
    "# Analizamos morfológicamente las palabras del diccionario TF-IDF\n",
    "\n",
    "# Aplicamos la función pos_tag a cada palabra (no seleccionamos el valor del TF-IDF) y guardamos el resultado en una lista\n",
    "\n",
    "topWordsTagged = nltk.pos_tag(((np.asarray(topWords))[:,0]))\n",
    "\n",
    "print(topWordsTagged[0:10])"
   ]
  },
  {
   "cell_type": "code",
   "execution_count": 42,
   "metadata": {},
   "outputs": [
    {
     "name": "stdout",
     "output_type": "stream",
     "text": [
      "[('microarchitecture', 'NN'), ('crater', 'NN'), ('band', 'NN'), ('titles', 'NNS'), ('pages', 'NNS'), ('film', 'NN'), ('collider', 'NN'), ('flux', 'VB'), ('honour', 'JJ'), ('particle', 'NN')]\n"
     ]
    }
   ],
   "source": [
    "# Filtramos por tag (seleccionamos sólo los nombres, verbos y adjetivos)\n",
    "\n",
    "# Creamos una lista vacía\n",
    "\n",
    "topWordsFiltered = []\n",
    "\n",
    "# Recorremos cada elemento de la lista topWordsTagged\n",
    "\n",
    "for pair in topWordsTagged:\n",
    "    \n",
    "    # Cremaos una lista vacía por cada elemento\n",
    "    \n",
    "    skeleton = []\n",
    "    \n",
    "    # Si el tag de la topword es un nombre, verbo o adjetivo\n",
    "    \n",
    "    if pair[1] not in pos_in:\n",
    "        \n",
    "        # Conservamos la palabra (auxiliar)\n",
    "        \n",
    "        topWordsFiltered.append(pair)\n",
    "\n",
    "print(topWordsFiltered[0:10])"
   ]
  },
  {
   "cell_type": "code",
   "execution_count": 43,
   "metadata": {},
   "outputs": [
    {
     "data": {
      "text/plain": [
       "17272"
      ]
     },
     "execution_count": 43,
     "metadata": {},
     "output_type": "execute_result"
    }
   ],
   "source": [
    "len(topWordsFiltered)"
   ]
  },
  {
   "cell_type": "markdown",
   "metadata": {},
   "source": [
    "### Filtrado - Análisis de sentimiento"
   ]
  },
  {
   "cell_type": "code",
   "execution_count": 44,
   "metadata": {},
   "outputs": [
    {
     "data": {
      "text/plain": [
       "[('crater', 0.0),\n",
       " ('band', 0.0),\n",
       " ('film', 0.0),\n",
       " ('collider', 0.0),\n",
       " ('flux', 0.0),\n",
       " ('honour', 0.0),\n",
       " ('particle', 0.0),\n",
       " ('lunar', 0.0),\n",
       " ('opera', 0.0),\n",
       " ('resonant', 0.125)]"
      ]
     },
     "execution_count": 44,
     "metadata": {},
     "output_type": "execute_result"
    }
   ],
   "source": [
    "# Análisis de sentimiento de las topWords seleccionadas\n",
    "\n",
    "# Creamos un diccionario vacío para rellenar con las topWords y su score de snetimiento negativo\n",
    "\n",
    "sentiments = {}\n",
    "\n",
    "\n",
    "# Recorremos cada elemento de la lista topWordsFiltered\n",
    "\n",
    "for couple in topWordsFiltered:\n",
    "    \n",
    "    \n",
    "    # Acoplamos las palabras a los diferentes casos posibles de análisis de sentiWordNet \n",
    "    \n",
    "    try:\n",
    "        \n",
    "        # Añadimos '.n' y .01 para analizarla como sustantivo y primera acepción del término\n",
    "        \n",
    "        senti = swn.senti_synset(couple[0] + '.n' +'.01')\n",
    "        \n",
    "        # Obtenemos el score del sentimiento negativo \n",
    "        \n",
    "        sentiments[couple[0]] = senti.neg_score()\n",
    "        \n",
    "    except:\n",
    "        \n",
    "        \n",
    "        try:\n",
    "            \n",
    "            # Añadimos '.v' y .01 para analizarla como verbo y primera acepción del término\n",
    "                \n",
    "            senti = swn.senti_synset(couple[0] + '.v' +'.01')\n",
    "            \n",
    "            # Obtenemos el score del sentimiento negativo \n",
    "            \n",
    "            sentiments[couple[0]] = senti.neg_score() \n",
    "\n",
    "        except:\n",
    "            \n",
    "            \n",
    "            try:\n",
    "                \n",
    "                # Añadimos '.a' y .01 para analizarla como adjetivo y primera acepción del término\n",
    "            \n",
    "                senti = swn.senti_synset(couple[0] + '.a' +'.01')\n",
    "                \n",
    "                # Obtenemos el score del sentimiento negativo \n",
    "                    \n",
    "                sentiments[couple[0]] = senti.neg_score() \n",
    "                \n",
    "\n",
    "            except:\n",
    "                \n",
    "                try:\n",
    "                    \n",
    "                    # Añadimos '.n' y .01 para analizarla como adjetivo satélite y primera acepción del término\n",
    "                    \n",
    "                    senti = swn.senti_synset(couple[0] + '.s' +'.01')\n",
    "                    \n",
    "                    # Obtenemos el score del sentimiento negativo \n",
    "                    \n",
    "                    sentiments[couple[0]] = senti.neg_score() \n",
    "\n",
    "                except:\n",
    "             \n",
    "                    try:\n",
    "                        \n",
    "                        # Añadimos '.r' y .01 para analizarla como adjetivo y primera acepción del término\n",
    "            \n",
    "                        senti = swn.senti_synset(couple[0] + '.r' +'.01')\n",
    "                \n",
    "                        # Obtenemos el score del sentimiento negativo \n",
    "                \n",
    "                        sentiments[couple[0]] = senti.neg_score()\n",
    "            \n",
    "                    except:\n",
    "                    \n",
    "                        continue\n",
    "                        \n",
    "list(sentiments.items())[0:10]"
   ]
  },
  {
   "cell_type": "code",
   "execution_count": 45,
   "metadata": {},
   "outputs": [],
   "source": [
    "# Eliminamos las keywords que tienen score negativo mayor que cero\n",
    "\n",
    "# Recorremos cada elemento del diccionario de análisis de sentimiento negativo\n",
    "\n",
    "for index, (word, senti) in enumerate(sentiments.items()):\n",
    "    \n",
    "    # Si el sentimiento mnegativo es mayor que 0\n",
    "    \n",
    "    if senti > 0:\n",
    "        \n",
    "        # Recorremos cada elemento de topWordsFiltered\n",
    "        \n",
    "        for couple in topWordsFiltered:\n",
    "            \n",
    "            # Si la palabra con el score negativo es igual a la topWord\n",
    "            \n",
    "            if couple[0] == word:\n",
    "                \n",
    "                # Eliminamos la topWord \n",
    "                \n",
    "                topWordsFiltered.remove(couple)"
   ]
  },
  {
   "cell_type": "code",
   "execution_count": 46,
   "metadata": {},
   "outputs": [
    {
     "data": {
      "text/plain": [
       "15423"
      ]
     },
     "execution_count": 46,
     "metadata": {},
     "output_type": "execute_result"
    }
   ],
   "source": [
    "len(topWordsFiltered)"
   ]
  },
  {
   "cell_type": "markdown",
   "metadata": {},
   "source": [
    "### Cantidad mínima"
   ]
  },
  {
   "cell_type": "code",
   "execution_count": 47,
   "metadata": {},
   "outputs": [
    {
     "data": {
      "text/html": [
       "<div>\n",
       "<style scoped>\n",
       "    .dataframe tbody tr th:only-of-type {\n",
       "        vertical-align: middle;\n",
       "    }\n",
       "\n",
       "    .dataframe tbody tr th {\n",
       "        vertical-align: top;\n",
       "    }\n",
       "\n",
       "    .dataframe thead th {\n",
       "        text-align: right;\n",
       "    }\n",
       "</style>\n",
       "<table border=\"1\" class=\"dataframe\">\n",
       "  <thead>\n",
       "    <tr style=\"text-align: right;\">\n",
       "      <th></th>\n",
       "      <th>slogans</th>\n",
       "      <th>sloganTagged</th>\n",
       "      <th>sloganSkeleton</th>\n",
       "      <th>sloganAuxi</th>\n",
       "      <th>auxiCount</th>\n",
       "      <th>NN</th>\n",
       "      <th>NNS</th>\n",
       "      <th>NNP</th>\n",
       "      <th>NNPS</th>\n",
       "      <th>VB</th>\n",
       "      <th>VBD</th>\n",
       "      <th>VBG</th>\n",
       "      <th>VBN</th>\n",
       "      <th>VBP</th>\n",
       "      <th>VBZ</th>\n",
       "      <th>JJ</th>\n",
       "      <th>JJR</th>\n",
       "      <th>JJS</th>\n",
       "    </tr>\n",
       "  </thead>\n",
       "  <tbody>\n",
       "    <tr>\n",
       "      <th>0</th>\n",
       "      <td>A-1 makes hamburgers taste like steakburgers</td>\n",
       "      <td>[(a-1, JJ), (makes, VBZ), (hamburgers, NNS), (taste, VBP), (like, IN), (steakburgers, NNS)]</td>\n",
       "      <td>[JJ, VBZ, NNS, VBP, like, NNS]</td>\n",
       "      <td>[JJ, VBZ, NNS, VBP, NNS]</td>\n",
       "      <td>5</td>\n",
       "      <td>0</td>\n",
       "      <td>2</td>\n",
       "      <td>0</td>\n",
       "      <td>0</td>\n",
       "      <td>0</td>\n",
       "      <td>0</td>\n",
       "      <td>0</td>\n",
       "      <td>0</td>\n",
       "      <td>1</td>\n",
       "      <td>1</td>\n",
       "      <td>1</td>\n",
       "      <td>0</td>\n",
       "      <td>0</td>\n",
       "    </tr>\n",
       "    <tr>\n",
       "      <th>1</th>\n",
       "      <td>Get the Abbey habit</td>\n",
       "      <td>[(get, VB), (the, DT), (abbey, NN), (habit, NN)]</td>\n",
       "      <td>[VB, the, NN, NN]</td>\n",
       "      <td>[VB, NN, NN]</td>\n",
       "      <td>3</td>\n",
       "      <td>2</td>\n",
       "      <td>0</td>\n",
       "      <td>0</td>\n",
       "      <td>0</td>\n",
       "      <td>1</td>\n",
       "      <td>0</td>\n",
       "      <td>0</td>\n",
       "      <td>0</td>\n",
       "      <td>0</td>\n",
       "      <td>0</td>\n",
       "      <td>0</td>\n",
       "      <td>0</td>\n",
       "      <td>0</td>\n",
       "    </tr>\n",
       "    <tr>\n",
       "      <th>2</th>\n",
       "      <td>Because life’s complicated enough</td>\n",
       "      <td>[(because, IN), (life, NN), (’, NNP), (s, NN), (complicated, VBD), (enough, RB)]</td>\n",
       "      <td>[because, NN, NNP, NN, VBD, enough]</td>\n",
       "      <td>[NN, NNP, NN, VBD]</td>\n",
       "      <td>4</td>\n",
       "      <td>2</td>\n",
       "      <td>0</td>\n",
       "      <td>1</td>\n",
       "      <td>0</td>\n",
       "      <td>0</td>\n",
       "      <td>1</td>\n",
       "      <td>0</td>\n",
       "      <td>0</td>\n",
       "      <td>0</td>\n",
       "      <td>0</td>\n",
       "      <td>0</td>\n",
       "      <td>0</td>\n",
       "      <td>0</td>\n",
       "    </tr>\n",
       "    <tr>\n",
       "      <th>3</th>\n",
       "      <td>Access takes the waiting out of wanting</td>\n",
       "      <td>[(access, NN), (takes, VBZ), (the, DT), (waiting, VBG), (out, IN), (of, IN), (wanting, VBG)]</td>\n",
       "      <td>[NN, VBZ, the, VBG, out, of, VBG]</td>\n",
       "      <td>[NN, VBZ, VBG, VBG]</td>\n",
       "      <td>4</td>\n",
       "      <td>1</td>\n",
       "      <td>0</td>\n",
       "      <td>0</td>\n",
       "      <td>0</td>\n",
       "      <td>0</td>\n",
       "      <td>0</td>\n",
       "      <td>2</td>\n",
       "      <td>0</td>\n",
       "      <td>0</td>\n",
       "      <td>1</td>\n",
       "      <td>0</td>\n",
       "      <td>0</td>\n",
       "      <td>0</td>\n",
       "    </tr>\n",
       "    <tr>\n",
       "      <th>4</th>\n",
       "      <td>Makes sensible buying simple</td>\n",
       "      <td>[(makes, VBZ), (sensible, JJ), (buying, NN), (simple, NN)]</td>\n",
       "      <td>[VBZ, JJ, NN, NN]</td>\n",
       "      <td>[VBZ, JJ, NN, NN]</td>\n",
       "      <td>4</td>\n",
       "      <td>2</td>\n",
       "      <td>0</td>\n",
       "      <td>0</td>\n",
       "      <td>0</td>\n",
       "      <td>0</td>\n",
       "      <td>0</td>\n",
       "      <td>0</td>\n",
       "      <td>0</td>\n",
       "      <td>0</td>\n",
       "      <td>1</td>\n",
       "      <td>1</td>\n",
       "      <td>0</td>\n",
       "      <td>0</td>\n",
       "    </tr>\n",
       "  </tbody>\n",
       "</table>\n",
       "</div>"
      ],
      "text/plain": [
       "                                        slogans  \\\n",
       "0  A-1 makes hamburgers taste like steakburgers   \n",
       "1  Get the Abbey habit                            \n",
       "2  Because life’s complicated enough              \n",
       "3  Access takes the waiting out of wanting        \n",
       "4  Makes sensible buying simple                   \n",
       "\n",
       "                                                                                   sloganTagged  \\\n",
       "0  [(a-1, JJ), (makes, VBZ), (hamburgers, NNS), (taste, VBP), (like, IN), (steakburgers, NNS)]    \n",
       "1  [(get, VB), (the, DT), (abbey, NN), (habit, NN)]                                               \n",
       "2  [(because, IN), (life, NN), (’, NNP), (s, NN), (complicated, VBD), (enough, RB)]               \n",
       "3  [(access, NN), (takes, VBZ), (the, DT), (waiting, VBG), (out, IN), (of, IN), (wanting, VBG)]   \n",
       "4  [(makes, VBZ), (sensible, JJ), (buying, NN), (simple, NN)]                                     \n",
       "\n",
       "                        sloganSkeleton                sloganAuxi  auxiCount  \\\n",
       "0  [JJ, VBZ, NNS, VBP, like, NNS]       [JJ, VBZ, NNS, VBP, NNS]  5           \n",
       "1  [VB, the, NN, NN]                    [VB, NN, NN]              3           \n",
       "2  [because, NN, NNP, NN, VBD, enough]  [NN, NNP, NN, VBD]        4           \n",
       "3  [NN, VBZ, the, VBG, out, of, VBG]    [NN, VBZ, VBG, VBG]       4           \n",
       "4  [VBZ, JJ, NN, NN]                    [VBZ, JJ, NN, NN]         4           \n",
       "\n",
       "  NN NNS NNP NNPS VB VBD VBG VBN VBP VBZ JJ JJR JJS  \n",
       "0  0  2   0   0    0  0   0   0   1   1   1  0   0   \n",
       "1  2  0   0   0    1  0   0   0   0   0   0  0   0   \n",
       "2  2  0   1   0    0  1   0   0   0   0   0  0   0   \n",
       "3  1  0   0   0    0  0   2   0   0   1   0  0   0   \n",
       "4  2  0   0   0    0  0   0   0   0   1   1  0   0   "
      ]
     },
     "execution_count": 47,
     "metadata": {},
     "output_type": "execute_result"
    }
   ],
   "source": [
    "# Determinar el máximo necesario de tags de cada tipo para poder compeltar todos los esqueletos\n",
    "\n",
    "# Creamos una lista con los tags de los auxis\n",
    "\n",
    "tag_auxi = [\"NN\", \"NNS\", \"NNP\", \"NNPS\", \"VB\", \"VBD\", \"VBG\", \"VBN\", \"VBP\", \"VBZ\", \"JJ\", \"JJR\", \"JJS\"]\n",
    "\n",
    "# Creamos un dataframe vacío con columnas nombradas como la lista de tags anterior\n",
    "\n",
    "df_auxi = pd.DataFrame(columns = tag_auxi)\n",
    "\n",
    "# Recorremos cada auxi\n",
    "\n",
    "for row in slogansDF.sloganAuxi:\n",
    "    \n",
    "    # Recorremos cada elemento del auxi, hacemos su conteo y lo guardamos en un diccionario\n",
    "    \n",
    "    drow = dict((x, row.count(x)) for x in tag_auxi)\n",
    "       \n",
    "    # Añadimos el resultado al dataframe inicial\n",
    "    \n",
    "    df_auxi = df_auxi.append(drow , ignore_index=True)\n",
    "\n",
    "# Concatenamos el nuevo dataframe al inicial \n",
    "\n",
    "slogansDF = pd.concat([slogansDF, df_auxi], axis=1)\n",
    "\n",
    "# Eliminamos columnas generadas tras el procesamiento que no interesan\n",
    "\n",
    "slogansDF = slogansDF.drop([\"level_0\", \"index\"], axis = 1)\n",
    "\n",
    "slogansDF.head()"
   ]
  },
  {
   "cell_type": "code",
   "execution_count": 48,
   "metadata": {},
   "outputs": [],
   "source": [
    "# Obtener la cantidad mínima de keywords necesaria para poder completar el total de esqueletos generados (sumar los máximos del conteo de cada tag)\n",
    "\n",
    "totalKeywords = (slogansDF.NN.max()) + (slogansDF.NNS.max()) + (slogansDF.NNP.max()) + (slogansDF.NNPS.max()) + (slogansDF.VB.max()) + (slogansDF.VBD.max()) + (slogansDF.VBG.max()) + (slogansDF.VBN.max()) + (slogansDF.VBP.max()) + (slogansDF.VBZ.max()) + (slogansDF.JJ.max()) + (slogansDF.JJR.max()) + (slogansDF.JJS.max())"
   ]
  },
  {
   "cell_type": "code",
   "execution_count": 49,
   "metadata": {},
   "outputs": [
    {
     "data": {
      "text/plain": [
       "27"
      ]
     },
     "execution_count": 49,
     "metadata": {},
     "output_type": "execute_result"
    }
   ],
   "source": [
    "totalKeywords"
   ]
  },
  {
   "cell_type": "code",
   "execution_count": 50,
   "metadata": {},
   "outputs": [],
   "source": [
    "# Extracción de keywords finales (topWords)\n",
    "\n",
    "# Creamos una lista vacía\n",
    "\n",
    "topWordsFinal = []\n",
    "\n",
    "# Innicializamos variables\n",
    "\n",
    "count = 0\n",
    "\n",
    "n = 0\n",
    "ns = 0\n",
    "np = 0\n",
    "nps = 0\n",
    "vb = 0\n",
    "vbd = 0\n",
    "vbg = 0\n",
    "vbn = 0\n",
    "vbp = 0\n",
    "vbz = 0\n",
    "jj = 0\n",
    "jjr = 0\n",
    "jjs = 0\n",
    "\n",
    "# Recorremos cada elemento de TopWordsFiltered y su posición\n",
    "\n",
    "for index, word in enumerate(topWordsFiltered):\n",
    "    \n",
    "    # Si el tag de la palabra es \"NN\" y todavía no tenemos todas las \"NN\" necesarias, seleccionamos las topWord (idem para cada caso)\n",
    "    \n",
    "    if word[1] == \"NN\" and n<max(slogansDF.NN):\n",
    "        \n",
    "        # Incrementamos en 1 el contador de los sutantivos\n",
    "        n += 1\n",
    "        \n",
    "        # Añadimos a la lista la keyword y su posición (c)\n",
    "        \n",
    "        topWordsFinal.append([word, index])\n",
    "\n",
    "    elif word[1] == \"NNS\" and ns<max(slogansDF.NNS):\n",
    "\n",
    "        ns += 1\n",
    "        topWordsFinal.append([word, index])\n",
    "\n",
    "    elif word[1] == \"NNP\" and np<max(slogansDF.NNP):\n",
    "\n",
    "        np += 1 \n",
    "        topWordsFinal.append([word, index])\n",
    "\n",
    "    elif word[1] == \"NNPS\" and nps<max(slogansDF.NNPS):\n",
    "\n",
    "        nps += 1\n",
    "        topWordsFinal.append([word, index])\n",
    "\n",
    "    elif word[1] == \"VB\" and vb<max(slogansDF.VB):\n",
    "\n",
    "        vb += 1\n",
    "        topWordsFinal.append([word, index])\n",
    "\n",
    "    elif word[1] == \"VBD\" and vbd<max(slogansDF.VBD):\n",
    "\n",
    "        vbd += 1\n",
    "        topWordsFinal.append([word, index])\n",
    "\n",
    "    elif word[1] == \"VBG\" and vbg<max(slogansDF.VBG):\n",
    "\n",
    "        vbg += 1\n",
    "        topWordsFinal.append([word, index])\n",
    "\n",
    "    elif word[1] == \"VBN\" and vbn<max(slogansDF.VBN):\n",
    "\n",
    "        vbn += 1\n",
    "        topWordsFinal.append([word, index])\n",
    "\n",
    "    elif word[1] == \"VBP\" and vbp<max(slogansDF.VBP):\n",
    "\n",
    "        vbp += 1\n",
    "        topWordsFinal.append([word, index])\n",
    "\n",
    "    elif word[1] == \"VBZ\" and vbz<max(slogansDF.VBZ):\n",
    "\n",
    "        vbz += 1\n",
    "        topWordsFinal.append([word, index])\n",
    "\n",
    "    elif word[1] == \"JJ\" and jj<max(slogansDF.JJ):\n",
    "\n",
    "        jj += 1\n",
    "        topWordsFinal.append([word, index])\n",
    "\n",
    "    elif word[1] == \"JJR\" and jjr<max(slogansDF.JJR):\n",
    "\n",
    "        jjr += 1\n",
    "        topWordsFinal.append([word, index])\n",
    "\n",
    "    elif word[1] == \"JJS\" and jjs<max(slogansDF.JJS):\n",
    "\n",
    "        jjs += 1\n",
    "        topWordsFinal.append([word, index])\n",
    "\n",
    "    elif count == totalKeywords:\n",
    "        \n",
    "        break\n",
    "    \n",
    "    # Cuenta el total de topWords seleccionadas\n",
    "    \n",
    "    count = n + ns + np + nps + vb + vbd + vbg + vbn + vbp + vbz + jj + jjr + jjs\n",
    "    \n",
    "    # Guardamos la posición de la última keyword\n",
    "    \n",
    "    pos_max = index"
   ]
  },
  {
   "cell_type": "code",
   "execution_count": 51,
   "metadata": {},
   "outputs": [
    {
     "data": {
      "text/plain": [
       "27"
      ]
     },
     "execution_count": 51,
     "metadata": {},
     "output_type": "execute_result"
    }
   ],
   "source": [
    "# Cantidad de keywords escogidas\n",
    "\n",
    "count"
   ]
  },
  {
   "cell_type": "code",
   "execution_count": 52,
   "metadata": {},
   "outputs": [
    {
     "data": {
      "text/plain": [
       "7531"
      ]
     },
     "execution_count": 52,
     "metadata": {},
     "output_type": "execute_result"
    }
   ],
   "source": [
    "# Cantidad de keywords recorridas\n",
    "\n",
    "pos_max"
   ]
  },
  {
   "cell_type": "code",
   "execution_count": 53,
   "metadata": {},
   "outputs": [
    {
     "data": {
      "text/plain": [
       "[[('microarchitecture', 'NN'), 0],\n",
       " [('crater', 'NN'), 1],\n",
       " [('band', 'NN'), 2],\n",
       " [('titles', 'NNS'), 3],\n",
       " [('pages', 'NNS'), 4],\n",
       " [('film', 'NN'), 5],\n",
       " [('flux', 'VB'), 7],\n",
       " [('honour', 'JJ'), 8],\n",
       " [('preserving', 'VBG'), 10],\n",
       " [('lunar', 'JJ'), 11],\n",
       " [('asteroid', 'JJ'), 13],\n",
       " [('proposed', 'VBD'), 15],\n",
       " [('named', 'VBD'), 21],\n",
       " [('refers', 'NNS'), 22],\n",
       " [('rock', 'VBP'), 23],\n",
       " [('abandoning', 'VBG'), 61],\n",
       " [('abbreviated', 'VBN'), 65],\n",
       " [('abnormality', 'VBP'), 77],\n",
       " [('abscesses', 'VBZ'), 87],\n",
       " [('accelerates', 'VBZ'), 112],\n",
       " [('accelerometer', 'VBP'), 117],\n",
       " [('accidents', 'VBZ'), 129],\n",
       " [('acquire', 'VB'), 193],\n",
       " [('adopt', 'VB'), 308],\n",
       " [('amplifier', 'JJR'), 595],\n",
       " [('behest', 'JJS'), 1349],\n",
       " [('keyfobs', 'NNP'), 7531]]"
      ]
     },
     "execution_count": 53,
     "metadata": {},
     "output_type": "execute_result"
    }
   ],
   "source": [
    "topWordsFinal"
   ]
  },
  {
   "cell_type": "markdown",
   "metadata": {
    "colab_type": "text",
    "id": "hZUKqFUPd6Ht"
   },
   "source": [
    "# Generación de Eslóganes"
   ]
  },
  {
   "cell_type": "markdown",
   "metadata": {},
   "source": [
    "### Word Embedding - Gensim"
   ]
  },
  {
   "cell_type": "code",
   "execution_count": 54,
   "metadata": {},
   "outputs": [],
   "source": [
    "# Modelo pre-entrenado de wordEmbedding\n",
    "\n",
    "# Generamos el modelo pre-entrenado de word2vec con el fichero de GoogleNews\n",
    "\n",
    "#model = KeyedVectors.load_word2vec_format('GoogleNews-vectors-negative300.bin', binary=True)\n",
    "\n",
    "# Guardamos el modelo\n",
    "\n",
    "#pickle.dump(model, open(\"gensimModel\", 'wb'))"
   ]
  },
  {
   "cell_type": "code",
   "execution_count": 55,
   "metadata": {},
   "outputs": [],
   "source": [
    "# Cargamos el modelo pre-entrenado de wordEmbedding\n",
    "\n",
    "gensimModel = pickle.load(open(\"gensimModel\", 'rb'))"
   ]
  },
  {
   "cell_type": "code",
   "execution_count": 56,
   "metadata": {},
   "outputs": [],
   "source": [
    "# Creamos la función de similitud entre palabras \n",
    "\n",
    "# El input de la función son dos palabras\n",
    "\n",
    "def word_embedding (wd1, wd2):\n",
    "    \n",
    "    # Si alguna de las palabras no está contenida en el modelo\n",
    "    \n",
    "    if (wd1 not in gensimModel.vocab) or (wd2 not in gensimModel.vocab):\n",
    "        \n",
    "        # Se establecerá la menor similitud\n",
    "        \n",
    "        sim = -1\n",
    "        \n",
    "    # Si ambas palabras están contenidas en el modelo\n",
    "    \n",
    "    else:\n",
    "        \n",
    "        # Calculamos el grado de similitud entre palabras\n",
    "        \n",
    "        sim = gensimModel.similarity(wd1, wd2)\n",
    "        \n",
    "        # Si las palabras son idénticas, le aplicamos la menor similitud (no plagio de eslóganes!!!)\n",
    "        \n",
    "        if sim >= 0.9:\n",
    "            \n",
    "            sim = -1\n",
    "            \n",
    "    # La función devuelve el ratio de similitud\n",
    "    \n",
    "    return sim\n"
   ]
  },
  {
   "cell_type": "markdown",
   "metadata": {},
   "source": [
    "### Selección de keywords"
   ]
  },
  {
   "cell_type": "code",
   "execution_count": 57,
   "metadata": {},
   "outputs": [
    {
     "data": {
      "text/html": [
       "<div>\n",
       "<style scoped>\n",
       "    .dataframe tbody tr th:only-of-type {\n",
       "        vertical-align: middle;\n",
       "    }\n",
       "\n",
       "    .dataframe tbody tr th {\n",
       "        vertical-align: top;\n",
       "    }\n",
       "\n",
       "    .dataframe thead th {\n",
       "        text-align: right;\n",
       "    }\n",
       "</style>\n",
       "<table border=\"1\" class=\"dataframe\">\n",
       "  <thead>\n",
       "    <tr style=\"text-align: right;\">\n",
       "      <th></th>\n",
       "      <th>slogans</th>\n",
       "      <th>sloganTagged</th>\n",
       "      <th>sloganSkeleton</th>\n",
       "      <th>sloganAuxi</th>\n",
       "      <th>auxiCount</th>\n",
       "      <th>NN</th>\n",
       "      <th>NNS</th>\n",
       "      <th>NNP</th>\n",
       "      <th>NNPS</th>\n",
       "      <th>VB</th>\n",
       "      <th>VBD</th>\n",
       "      <th>VBG</th>\n",
       "      <th>VBN</th>\n",
       "      <th>VBP</th>\n",
       "      <th>VBZ</th>\n",
       "      <th>JJ</th>\n",
       "      <th>JJR</th>\n",
       "      <th>JJS</th>\n",
       "    </tr>\n",
       "  </thead>\n",
       "  <tbody>\n",
       "    <tr>\n",
       "      <th>0</th>\n",
       "      <td>A-1 makes hamburgers taste like steakburgers</td>\n",
       "      <td>[(a-1, JJ), (makes, VBZ), (hamburgers, NNS), (taste, VBP), (like, IN), (steakburgers, NNS)]</td>\n",
       "      <td>[JJ, VBZ, NNS, VBP, like, NNS]</td>\n",
       "      <td>[JJ, VBZ, NNS, VBP, NNS]</td>\n",
       "      <td>5</td>\n",
       "      <td>0</td>\n",
       "      <td>2</td>\n",
       "      <td>0</td>\n",
       "      <td>0</td>\n",
       "      <td>0</td>\n",
       "      <td>0</td>\n",
       "      <td>0</td>\n",
       "      <td>0</td>\n",
       "      <td>1</td>\n",
       "      <td>1</td>\n",
       "      <td>1</td>\n",
       "      <td>0</td>\n",
       "      <td>0</td>\n",
       "    </tr>\n",
       "    <tr>\n",
       "      <th>1</th>\n",
       "      <td>Get the Abbey habit</td>\n",
       "      <td>[(get, VB), (the, DT), (abbey, NN), (habit, NN)]</td>\n",
       "      <td>[VB, the, NN, NN]</td>\n",
       "      <td>[VB, NN, NN]</td>\n",
       "      <td>3</td>\n",
       "      <td>2</td>\n",
       "      <td>0</td>\n",
       "      <td>0</td>\n",
       "      <td>0</td>\n",
       "      <td>1</td>\n",
       "      <td>0</td>\n",
       "      <td>0</td>\n",
       "      <td>0</td>\n",
       "      <td>0</td>\n",
       "      <td>0</td>\n",
       "      <td>0</td>\n",
       "      <td>0</td>\n",
       "      <td>0</td>\n",
       "    </tr>\n",
       "    <tr>\n",
       "      <th>2</th>\n",
       "      <td>Because life’s complicated enough</td>\n",
       "      <td>[(because, IN), (life, NN), (’, NNP), (s, NN), (complicated, VBD), (enough, RB)]</td>\n",
       "      <td>[because, NN, NNP, NN, VBD, enough]</td>\n",
       "      <td>[NN, NNP, NN, VBD]</td>\n",
       "      <td>4</td>\n",
       "      <td>2</td>\n",
       "      <td>0</td>\n",
       "      <td>1</td>\n",
       "      <td>0</td>\n",
       "      <td>0</td>\n",
       "      <td>1</td>\n",
       "      <td>0</td>\n",
       "      <td>0</td>\n",
       "      <td>0</td>\n",
       "      <td>0</td>\n",
       "      <td>0</td>\n",
       "      <td>0</td>\n",
       "      <td>0</td>\n",
       "    </tr>\n",
       "    <tr>\n",
       "      <th>3</th>\n",
       "      <td>Access takes the waiting out of wanting</td>\n",
       "      <td>[(access, NN), (takes, VBZ), (the, DT), (waiting, VBG), (out, IN), (of, IN), (wanting, VBG)]</td>\n",
       "      <td>[NN, VBZ, the, VBG, out, of, VBG]</td>\n",
       "      <td>[NN, VBZ, VBG, VBG]</td>\n",
       "      <td>4</td>\n",
       "      <td>1</td>\n",
       "      <td>0</td>\n",
       "      <td>0</td>\n",
       "      <td>0</td>\n",
       "      <td>0</td>\n",
       "      <td>0</td>\n",
       "      <td>2</td>\n",
       "      <td>0</td>\n",
       "      <td>0</td>\n",
       "      <td>1</td>\n",
       "      <td>0</td>\n",
       "      <td>0</td>\n",
       "      <td>0</td>\n",
       "    </tr>\n",
       "    <tr>\n",
       "      <th>4</th>\n",
       "      <td>Makes sensible buying simple</td>\n",
       "      <td>[(makes, VBZ), (sensible, JJ), (buying, NN), (simple, NN)]</td>\n",
       "      <td>[VBZ, JJ, NN, NN]</td>\n",
       "      <td>[VBZ, JJ, NN, NN]</td>\n",
       "      <td>4</td>\n",
       "      <td>2</td>\n",
       "      <td>0</td>\n",
       "      <td>0</td>\n",
       "      <td>0</td>\n",
       "      <td>0</td>\n",
       "      <td>0</td>\n",
       "      <td>0</td>\n",
       "      <td>0</td>\n",
       "      <td>0</td>\n",
       "      <td>1</td>\n",
       "      <td>1</td>\n",
       "      <td>0</td>\n",
       "      <td>0</td>\n",
       "    </tr>\n",
       "  </tbody>\n",
       "</table>\n",
       "</div>"
      ],
      "text/plain": [
       "                                        slogans  \\\n",
       "0  A-1 makes hamburgers taste like steakburgers   \n",
       "1  Get the Abbey habit                            \n",
       "2  Because life’s complicated enough              \n",
       "3  Access takes the waiting out of wanting        \n",
       "4  Makes sensible buying simple                   \n",
       "\n",
       "                                                                                   sloganTagged  \\\n",
       "0  [(a-1, JJ), (makes, VBZ), (hamburgers, NNS), (taste, VBP), (like, IN), (steakburgers, NNS)]    \n",
       "1  [(get, VB), (the, DT), (abbey, NN), (habit, NN)]                                               \n",
       "2  [(because, IN), (life, NN), (’, NNP), (s, NN), (complicated, VBD), (enough, RB)]               \n",
       "3  [(access, NN), (takes, VBZ), (the, DT), (waiting, VBG), (out, IN), (of, IN), (wanting, VBG)]   \n",
       "4  [(makes, VBZ), (sensible, JJ), (buying, NN), (simple, NN)]                                     \n",
       "\n",
       "                        sloganSkeleton                sloganAuxi  auxiCount  \\\n",
       "0  [JJ, VBZ, NNS, VBP, like, NNS]       [JJ, VBZ, NNS, VBP, NNS]  5           \n",
       "1  [VB, the, NN, NN]                    [VB, NN, NN]              3           \n",
       "2  [because, NN, NNP, NN, VBD, enough]  [NN, NNP, NN, VBD]        4           \n",
       "3  [NN, VBZ, the, VBG, out, of, VBG]    [NN, VBZ, VBG, VBG]       4           \n",
       "4  [VBZ, JJ, NN, NN]                    [VBZ, JJ, NN, NN]         4           \n",
       "\n",
       "  NN NNS NNP NNPS VB VBD VBG VBN VBP VBZ JJ JJR JJS  \n",
       "0  0  2   0   0    0  0   0   0   1   1   1  0   0   \n",
       "1  2  0   0   0    1  0   0   0   0   0   0  0   0   \n",
       "2  2  0   1   0    0  1   0   0   0   0   0  0   0   \n",
       "3  1  0   0   0    0  0   2   0   0   1   0  0   0   \n",
       "4  2  0   0   0    0  0   0   0   0   1   1  0   0   "
      ]
     },
     "execution_count": 57,
     "metadata": {},
     "output_type": "execute_result"
    }
   ],
   "source": [
    "slogansDF.head()"
   ]
  },
  {
   "cell_type": "code",
   "execution_count": 58,
   "metadata": {},
   "outputs": [],
   "source": [
    "# Creamos una función que seleccione la palabra con mayor score de entre todas las topWords posibles\n",
    "\n",
    "# El input de la función es (palabra,tag) del eslogan original y (palabra,tag) de las topWords\n",
    "\n",
    "def max_score (ori_tuple, kws):\n",
    "    \n",
    "    # Guardamos la palabra del eslogan original\n",
    "    \n",
    "    ori_word = ori_tuple[0]\n",
    "    \n",
    "    # Guardamos el tag de la palabra del eslogan original\n",
    "    \n",
    "    ori_tag = ori_tuple[1]\n",
    "    \n",
    "    # inicializamos la variable winner y el score\n",
    "    \n",
    "    winner = 'hola'\n",
    "    \n",
    "    sc_best = -1\n",
    "    \n",
    "    # Recorremos todos los elementos de las topWords\n",
    "    \n",
    "    for elem in kws:\n",
    "        \n",
    "        # Si el tag de la keyword y de la palabra original del eslogan coinciden\n",
    "        \n",
    "        if elem[0][1] == ori_tag:\n",
    "            \n",
    "            # Calculamos la similitud entre ellas\n",
    "            \n",
    "            sim = word_embedding(ori_word, elem[0][0])\n",
    "            \n",
    "            # Normzaliamos la posición de la topWord\n",
    "            \n",
    "            kw_sc = (pos_max - elem[1])/pos_max\n",
    "            \n",
    "            # Aplicamos la función del score(sim + pos_normalizada)\n",
    "            \n",
    "            sc = kw_sc + sim\n",
    "            \n",
    "            # Si el score es mayor que sc_best\n",
    "            \n",
    "            if sc >= sc_best:\n",
    "                \n",
    "                # Actualizamos el valor de sc_best por el nuevo score\n",
    "                \n",
    "                sc_best = sc\n",
    "                \n",
    "                # Actualizamos la variable winner con ((topWord,tag), pos)\n",
    "                \n",
    "                winner = elem\n",
    "                \n",
    "    # Borramos de las topWords el elemento seleccionado para evitar usar la misma palabra en un mismo eslogan\n",
    "    \n",
    "    kws.remove(winner)\n",
    "    \n",
    "    \n",
    "    # La función devuelve el elemento de topWords ganador, la lista de topWords sin el elemento winner y el score\n",
    "    \n",
    "    return winner, kws, sc_best"
   ]
  },
  {
   "cell_type": "markdown",
   "metadata": {},
   "source": [
    "### Algoritmo"
   ]
  },
  {
   "cell_type": "code",
   "execution_count": 59,
   "metadata": {
    "scrolled": true
   },
   "outputs": [],
   "source": [
    "# Algoritmo Generación Eslogan\n",
    "\n",
    "# Creamos dos listas vacías\n",
    "\n",
    "slogansDone = []\n",
    "scoresDone = []\n",
    "\n",
    "# Recorremos cada sloganTagged\n",
    "\n",
    "for elem in slogansDF.sloganTagged:\n",
    "    \n",
    "    # Inicializamos variables\n",
    "    \n",
    "    norm = 0\n",
    "    \n",
    "    slogan = []\n",
    "    \n",
    "    score = 0\n",
    "    \n",
    "    # Realizamos una copia de las topWords\n",
    "    \n",
    "    kws = topWordsFinal.copy()\n",
    "    \n",
    "    # Recorremos cada elemento de cada sloganTagged\n",
    "    \n",
    "    for elem2 in elem:\n",
    "        \n",
    "        # Si el tag de la palabra es un nombre, verbo o adjetivo\n",
    "        \n",
    "        if elem2[1] in tag_auxi:\n",
    "            \n",
    "            # Incrementamos la variable norm en 1\n",
    "            \n",
    "            norm += 1\n",
    "            \n",
    "            # Aplicamos la función de max_score y guardamoms el resultados en tres variables\n",
    "            \n",
    "            chosen, kws, sc_score = max_score (elem2, kws)\n",
    "            \n",
    "            # Añadimos a la varibale slogan la topWord ganadora \n",
    "            \n",
    "            slogan.append(chosen[0][0])\n",
    "            \n",
    "            # Adicionamos a la variable score, el score de todas las topWords que van formando el eslogan\n",
    "        \n",
    "            score += sc_score\n",
    "            \n",
    "        # Si el tag de la palabra no es un nombre, verbo o adjetivo   \n",
    "        \n",
    "        else:\n",
    "            \n",
    "            # Añadimos a la variable slogan la palabra del sloganTagged\n",
    "            \n",
    "            slogan.append(elem2[0])\n",
    "            \n",
    "    # Inicializamos la variable s a un espacio por cada slogan    \n",
    "    s = ' '\n",
    "    \n",
    "    # Añadimos cada eslogan generado con un espacio entre ellos\n",
    "    \n",
    "    slogansDone.append(s.join(slogan))\n",
    "    \n",
    "    # Añadimos a la lista scoresDone el score de cada eslogan generado normalziado por el número de topWords empleadas\n",
    "    \n",
    "    scoresDone.append(score/norm)"
   ]
  },
  {
   "cell_type": "code",
   "execution_count": 60,
   "metadata": {},
   "outputs": [
    {
     "data": {
      "text/html": [
       "<div>\n",
       "<style scoped>\n",
       "    .dataframe tbody tr th:only-of-type {\n",
       "        vertical-align: middle;\n",
       "    }\n",
       "\n",
       "    .dataframe tbody tr th {\n",
       "        vertical-align: top;\n",
       "    }\n",
       "\n",
       "    .dataframe thead th {\n",
       "        text-align: right;\n",
       "    }\n",
       "</style>\n",
       "<table border=\"1\" class=\"dataframe\">\n",
       "  <thead>\n",
       "    <tr style=\"text-align: right;\">\n",
       "      <th></th>\n",
       "      <th>slogans</th>\n",
       "      <th>sloganTagged</th>\n",
       "      <th>sloganSkeleton</th>\n",
       "      <th>sloganAuxi</th>\n",
       "      <th>auxiCount</th>\n",
       "      <th>NN</th>\n",
       "      <th>NNS</th>\n",
       "      <th>NNP</th>\n",
       "      <th>NNPS</th>\n",
       "      <th>VB</th>\n",
       "      <th>VBD</th>\n",
       "      <th>VBG</th>\n",
       "      <th>VBN</th>\n",
       "      <th>VBP</th>\n",
       "      <th>VBZ</th>\n",
       "      <th>JJ</th>\n",
       "      <th>JJR</th>\n",
       "      <th>JJS</th>\n",
       "      <th>slogansGen</th>\n",
       "      <th>score</th>\n",
       "    </tr>\n",
       "  </thead>\n",
       "  <tbody>\n",
       "    <tr>\n",
       "      <th>0</th>\n",
       "      <td>A-1 makes hamburgers taste like steakburgers</td>\n",
       "      <td>[(a-1, JJ), (makes, VBZ), (hamburgers, NNS), (taste, VBP), (like, IN), (steakburgers, NNS)]</td>\n",
       "      <td>[JJ, VBZ, NNS, VBP, like, NNS]</td>\n",
       "      <td>[JJ, VBZ, NNS, VBP, NNS]</td>\n",
       "      <td>5</td>\n",
       "      <td>0</td>\n",
       "      <td>2</td>\n",
       "      <td>0</td>\n",
       "      <td>0</td>\n",
       "      <td>0</td>\n",
       "      <td>0</td>\n",
       "      <td>0</td>\n",
       "      <td>0</td>\n",
       "      <td>1</td>\n",
       "      <td>1</td>\n",
       "      <td>1</td>\n",
       "      <td>0</td>\n",
       "      <td>0</td>\n",
       "      <td>honour accelerates pages abnormality like titles</td>\n",
       "      <td>0.923054</td>\n",
       "    </tr>\n",
       "    <tr>\n",
       "      <th>1</th>\n",
       "      <td>Get the Abbey habit</td>\n",
       "      <td>[(get, VB), (the, DT), (abbey, NN), (habit, NN)]</td>\n",
       "      <td>[VB, the, NN, NN]</td>\n",
       "      <td>[VB, NN, NN]</td>\n",
       "      <td>3</td>\n",
       "      <td>2</td>\n",
       "      <td>0</td>\n",
       "      <td>0</td>\n",
       "      <td>0</td>\n",
       "      <td>1</td>\n",
       "      <td>0</td>\n",
       "      <td>0</td>\n",
       "      <td>0</td>\n",
       "      <td>0</td>\n",
       "      <td>0</td>\n",
       "      <td>0</td>\n",
       "      <td>0</td>\n",
       "      <td>0</td>\n",
       "      <td>acquire the crater film</td>\n",
       "      <td>1.139244</td>\n",
       "    </tr>\n",
       "    <tr>\n",
       "      <th>2</th>\n",
       "      <td>Because life’s complicated enough</td>\n",
       "      <td>[(because, IN), (life, NN), (’, NNP), (s, NN), (complicated, VBD), (enough, RB)]</td>\n",
       "      <td>[because, NN, NNP, NN, VBD, enough]</td>\n",
       "      <td>[NN, NNP, NN, VBD]</td>\n",
       "      <td>4</td>\n",
       "      <td>2</td>\n",
       "      <td>0</td>\n",
       "      <td>1</td>\n",
       "      <td>0</td>\n",
       "      <td>0</td>\n",
       "      <td>1</td>\n",
       "      <td>0</td>\n",
       "      <td>0</td>\n",
       "      <td>0</td>\n",
       "      <td>0</td>\n",
       "      <td>0</td>\n",
       "      <td>0</td>\n",
       "      <td>0</td>\n",
       "      <td>because film keyfobs crater proposed enough</td>\n",
       "      <td>0.587580</td>\n",
       "    </tr>\n",
       "    <tr>\n",
       "      <th>3</th>\n",
       "      <td>Access takes the waiting out of wanting</td>\n",
       "      <td>[(access, NN), (takes, VBZ), (the, DT), (waiting, VBG), (out, IN), (of, IN), (wanting, VBG)]</td>\n",
       "      <td>[NN, VBZ, the, VBG, out, of, VBG]</td>\n",
       "      <td>[NN, VBZ, VBG, VBG]</td>\n",
       "      <td>4</td>\n",
       "      <td>1</td>\n",
       "      <td>0</td>\n",
       "      <td>0</td>\n",
       "      <td>0</td>\n",
       "      <td>0</td>\n",
       "      <td>0</td>\n",
       "      <td>2</td>\n",
       "      <td>0</td>\n",
       "      <td>0</td>\n",
       "      <td>1</td>\n",
       "      <td>0</td>\n",
       "      <td>0</td>\n",
       "      <td>0</td>\n",
       "      <td>microarchitecture accelerates the abandoning out of preserving</td>\n",
       "      <td>1.167139</td>\n",
       "    </tr>\n",
       "    <tr>\n",
       "      <th>4</th>\n",
       "      <td>Makes sensible buying simple</td>\n",
       "      <td>[(makes, VBZ), (sensible, JJ), (buying, NN), (simple, NN)]</td>\n",
       "      <td>[VBZ, JJ, NN, NN]</td>\n",
       "      <td>[VBZ, JJ, NN, NN]</td>\n",
       "      <td>4</td>\n",
       "      <td>2</td>\n",
       "      <td>0</td>\n",
       "      <td>0</td>\n",
       "      <td>0</td>\n",
       "      <td>0</td>\n",
       "      <td>0</td>\n",
       "      <td>0</td>\n",
       "      <td>0</td>\n",
       "      <td>0</td>\n",
       "      <td>1</td>\n",
       "      <td>1</td>\n",
       "      <td>0</td>\n",
       "      <td>0</td>\n",
       "      <td>accelerates asteroid band microarchitecture</td>\n",
       "      <td>1.142807</td>\n",
       "    </tr>\n",
       "  </tbody>\n",
       "</table>\n",
       "</div>"
      ],
      "text/plain": [
       "                                        slogans  \\\n",
       "0  A-1 makes hamburgers taste like steakburgers   \n",
       "1  Get the Abbey habit                            \n",
       "2  Because life’s complicated enough              \n",
       "3  Access takes the waiting out of wanting        \n",
       "4  Makes sensible buying simple                   \n",
       "\n",
       "                                                                                   sloganTagged  \\\n",
       "0  [(a-1, JJ), (makes, VBZ), (hamburgers, NNS), (taste, VBP), (like, IN), (steakburgers, NNS)]    \n",
       "1  [(get, VB), (the, DT), (abbey, NN), (habit, NN)]                                               \n",
       "2  [(because, IN), (life, NN), (’, NNP), (s, NN), (complicated, VBD), (enough, RB)]               \n",
       "3  [(access, NN), (takes, VBZ), (the, DT), (waiting, VBG), (out, IN), (of, IN), (wanting, VBG)]   \n",
       "4  [(makes, VBZ), (sensible, JJ), (buying, NN), (simple, NN)]                                     \n",
       "\n",
       "                        sloganSkeleton                sloganAuxi  auxiCount  \\\n",
       "0  [JJ, VBZ, NNS, VBP, like, NNS]       [JJ, VBZ, NNS, VBP, NNS]  5           \n",
       "1  [VB, the, NN, NN]                    [VB, NN, NN]              3           \n",
       "2  [because, NN, NNP, NN, VBD, enough]  [NN, NNP, NN, VBD]        4           \n",
       "3  [NN, VBZ, the, VBG, out, of, VBG]    [NN, VBZ, VBG, VBG]       4           \n",
       "4  [VBZ, JJ, NN, NN]                    [VBZ, JJ, NN, NN]         4           \n",
       "\n",
       "  NN NNS NNP NNPS VB VBD VBG VBN VBP VBZ JJ JJR JJS  \\\n",
       "0  0  2   0   0    0  0   0   0   1   1   1  0   0    \n",
       "1  2  0   0   0    1  0   0   0   0   0   0  0   0    \n",
       "2  2  0   1   0    0  1   0   0   0   0   0  0   0    \n",
       "3  1  0   0   0    0  0   2   0   0   1   0  0   0    \n",
       "4  2  0   0   0    0  0   0   0   0   1   1  0   0    \n",
       "\n",
       "                                                       slogansGen     score  \n",
       "0  honour accelerates pages abnormality like titles                0.923054  \n",
       "1  acquire the crater film                                         1.139244  \n",
       "2  because film keyfobs crater proposed enough                     0.587580  \n",
       "3  microarchitecture accelerates the abandoning out of preserving  1.167139  \n",
       "4  accelerates asteroid band microarchitecture                     1.142807  "
      ]
     },
     "execution_count": 60,
     "metadata": {},
     "output_type": "execute_result"
    }
   ],
   "source": [
    "# Creamos un dataframe con todos los eslóganes generados y su score\n",
    "\n",
    "df_auxi2 = pd.DataFrame({'slogansGen': slogansDone, 'score': scoresDone})\n",
    "\n",
    "# Concatenamos este dataframe al inicial\n",
    "\n",
    "slogansDF = pd.concat([slogansDF, df_auxi2], axis=1)\n",
    "\n",
    "slogansDF.head()"
   ]
  },
  {
   "cell_type": "markdown",
   "metadata": {},
   "source": [
    "### Solución"
   ]
  },
  {
   "cell_type": "code",
   "execution_count": 61,
   "metadata": {},
   "outputs": [
    {
     "data": {
      "text/html": [
       "<div>\n",
       "<style scoped>\n",
       "    .dataframe tbody tr th:only-of-type {\n",
       "        vertical-align: middle;\n",
       "    }\n",
       "\n",
       "    .dataframe tbody tr th {\n",
       "        vertical-align: top;\n",
       "    }\n",
       "\n",
       "    .dataframe thead th {\n",
       "        text-align: right;\n",
       "    }\n",
       "</style>\n",
       "<table border=\"1\" class=\"dataframe\">\n",
       "  <thead>\n",
       "    <tr style=\"text-align: right;\">\n",
       "      <th></th>\n",
       "      <th>slogans</th>\n",
       "      <th>sloganTagged</th>\n",
       "      <th>sloganSkeleton</th>\n",
       "      <th>sloganAuxi</th>\n",
       "      <th>auxiCount</th>\n",
       "      <th>NN</th>\n",
       "      <th>NNS</th>\n",
       "      <th>NNP</th>\n",
       "      <th>NNPS</th>\n",
       "      <th>VB</th>\n",
       "      <th>VBD</th>\n",
       "      <th>VBG</th>\n",
       "      <th>VBN</th>\n",
       "      <th>VBP</th>\n",
       "      <th>VBZ</th>\n",
       "      <th>JJ</th>\n",
       "      <th>JJR</th>\n",
       "      <th>JJS</th>\n",
       "      <th>slogansGen</th>\n",
       "      <th>score</th>\n",
       "    </tr>\n",
       "  </thead>\n",
       "  <tbody>\n",
       "    <tr>\n",
       "      <th>159</th>\n",
       "      <td>It never varies</td>\n",
       "      <td>[(it, PRP), (never, RB), (varies, NNS)]</td>\n",
       "      <td>[it, never, NNS]</td>\n",
       "      <td>[NNS]</td>\n",
       "      <td>1</td>\n",
       "      <td>0</td>\n",
       "      <td>1</td>\n",
       "      <td>0</td>\n",
       "      <td>0</td>\n",
       "      <td>0</td>\n",
       "      <td>0</td>\n",
       "      <td>0</td>\n",
       "      <td>0</td>\n",
       "      <td>0</td>\n",
       "      <td>0</td>\n",
       "      <td>0</td>\n",
       "      <td>0</td>\n",
       "      <td>0</td>\n",
       "      <td>it never refers</td>\n",
       "      <td>1.390894</td>\n",
       "    </tr>\n",
       "    <tr>\n",
       "      <th>507</th>\n",
       "      <td>Stop me and buy one</td>\n",
       "      <td>[(stop, VB), (me, PRP), (and, CC), (buy, VB), (one, CD)]</td>\n",
       "      <td>[VB, me, and, VB, one]</td>\n",
       "      <td>[VB, VB]</td>\n",
       "      <td>2</td>\n",
       "      <td>0</td>\n",
       "      <td>0</td>\n",
       "      <td>0</td>\n",
       "      <td>0</td>\n",
       "      <td>2</td>\n",
       "      <td>0</td>\n",
       "      <td>0</td>\n",
       "      <td>0</td>\n",
       "      <td>0</td>\n",
       "      <td>0</td>\n",
       "      <td>0</td>\n",
       "      <td>0</td>\n",
       "      <td>0</td>\n",
       "      <td>adopt me and acquire one</td>\n",
       "      <td>1.362049</td>\n",
       "    </tr>\n",
       "    <tr>\n",
       "      <th>513</th>\n",
       "      <td>Breakfast of Champions</td>\n",
       "      <td>[(breakfast, NN), (of, IN), (champions, NNS)]</td>\n",
       "      <td>[NN, of, NNS]</td>\n",
       "      <td>[NN, NNS]</td>\n",
       "      <td>2</td>\n",
       "      <td>1</td>\n",
       "      <td>1</td>\n",
       "      <td>0</td>\n",
       "      <td>0</td>\n",
       "      <td>0</td>\n",
       "      <td>0</td>\n",
       "      <td>0</td>\n",
       "      <td>0</td>\n",
       "      <td>0</td>\n",
       "      <td>0</td>\n",
       "      <td>0</td>\n",
       "      <td>0</td>\n",
       "      <td>0</td>\n",
       "      <td>crater of titles</td>\n",
       "      <td>1.264684</td>\n",
       "    </tr>\n",
       "    <tr>\n",
       "      <th>233</th>\n",
       "      <td>Harp puts out the fire</td>\n",
       "      <td>[(harp, NN), (puts, VBZ), (out, RP), (the, DT), (fire, NN)]</td>\n",
       "      <td>[NN, VBZ, out, the, NN]</td>\n",
       "      <td>[NN, VBZ, NN]</td>\n",
       "      <td>3</td>\n",
       "      <td>2</td>\n",
       "      <td>0</td>\n",
       "      <td>0</td>\n",
       "      <td>0</td>\n",
       "      <td>0</td>\n",
       "      <td>0</td>\n",
       "      <td>0</td>\n",
       "      <td>0</td>\n",
       "      <td>0</td>\n",
       "      <td>1</td>\n",
       "      <td>0</td>\n",
       "      <td>0</td>\n",
       "      <td>0</td>\n",
       "      <td>band accelerates out the crater</td>\n",
       "      <td>1.263838</td>\n",
       "    </tr>\n",
       "    <tr>\n",
       "      <th>367</th>\n",
       "      <td>It helps protect your skin.</td>\n",
       "      <td>[(it, PRP), (helps, VBZ), (protect, VB), (your, PRP$), (skin, NN), (., .)]</td>\n",
       "      <td>[it, VBZ, VB, your, NN, .]</td>\n",
       "      <td>[VBZ, VB, NN]</td>\n",
       "      <td>3</td>\n",
       "      <td>1</td>\n",
       "      <td>0</td>\n",
       "      <td>0</td>\n",
       "      <td>0</td>\n",
       "      <td>1</td>\n",
       "      <td>0</td>\n",
       "      <td>0</td>\n",
       "      <td>0</td>\n",
       "      <td>0</td>\n",
       "      <td>1</td>\n",
       "      <td>0</td>\n",
       "      <td>0</td>\n",
       "      <td>0</td>\n",
       "      <td>it accelerates adopt your microarchitecture .</td>\n",
       "      <td>1.253401</td>\n",
       "    </tr>\n",
       "  </tbody>\n",
       "</table>\n",
       "</div>"
      ],
      "text/plain": [
       "                         slogans  \\\n",
       "159  It never varies               \n",
       "507  Stop me and buy one           \n",
       "513  Breakfast of Champions        \n",
       "233  Harp puts out the fire        \n",
       "367  It helps protect your skin.   \n",
       "\n",
       "                                                                   sloganTagged  \\\n",
       "159  [(it, PRP), (never, RB), (varies, NNS)]                                      \n",
       "507  [(stop, VB), (me, PRP), (and, CC), (buy, VB), (one, CD)]                     \n",
       "513  [(breakfast, NN), (of, IN), (champions, NNS)]                                \n",
       "233  [(harp, NN), (puts, VBZ), (out, RP), (the, DT), (fire, NN)]                  \n",
       "367  [(it, PRP), (helps, VBZ), (protect, VB), (your, PRP$), (skin, NN), (., .)]   \n",
       "\n",
       "                 sloganSkeleton     sloganAuxi  auxiCount NN NNS NNP NNPS VB  \\\n",
       "159  [it, never, NNS]            [NNS]          1          0  1   0   0    0   \n",
       "507  [VB, me, and, VB, one]      [VB, VB]       2          0  0   0   0    2   \n",
       "513  [NN, of, NNS]               [NN, NNS]      2          1  1   0   0    0   \n",
       "233  [NN, VBZ, out, the, NN]     [NN, VBZ, NN]  3          2  0   0   0    0   \n",
       "367  [it, VBZ, VB, your, NN, .]  [VBZ, VB, NN]  3          1  0   0   0    1   \n",
       "\n",
       "    VBD VBG VBN VBP VBZ JJ JJR JJS  \\\n",
       "159  0   0   0   0   0   0  0   0    \n",
       "507  0   0   0   0   0   0  0   0    \n",
       "513  0   0   0   0   0   0  0   0    \n",
       "233  0   0   0   0   1   0  0   0    \n",
       "367  0   0   0   0   1   0  0   0    \n",
       "\n",
       "                                        slogansGen     score  \n",
       "159  it never refers                                1.390894  \n",
       "507  adopt me and acquire one                       1.362049  \n",
       "513  crater of titles                               1.264684  \n",
       "233  band accelerates out the crater                1.263838  \n",
       "367  it accelerates adopt your microarchitecture .  1.253401  "
      ]
     },
     "execution_count": 61,
     "metadata": {},
     "output_type": "execute_result"
    }
   ],
   "source": [
    "# Ordenamos el dataframe en sentido descendente por el valor de la columna score\n",
    "\n",
    "slogansSorted = slogansDF.sort_values(by=['score'], ascending=False)\n",
    "\n",
    "slogansSorted.head()"
   ]
  },
  {
   "cell_type": "code",
   "execution_count": 62,
   "metadata": {},
   "outputs": [],
   "source": [
    "# Escogemos la columna del eslogan generado con el mayor score\n",
    "\n",
    "sloganGenerated = slogansSorted.iloc[0,18]\n",
    "\n",
    "# Ponemos en mayúscula la primera letra y quitamos espacios al inicio o final no deseados\n",
    "\n",
    "sloganGenerated = sloganGenerated.capitalize().strip()"
   ]
  },
  {
   "cell_type": "code",
   "execution_count": 63,
   "metadata": {},
   "outputs": [
    {
     "data": {
      "text/plain": [
       "'It never refers'"
      ]
     },
     "execution_count": 63,
     "metadata": {},
     "output_type": "execute_result"
    }
   ],
   "source": [
    "sloganGenerated"
   ]
  },
  {
   "cell_type": "markdown",
   "metadata": {},
   "source": [
    "# Encuesta"
   ]
  },
  {
   "cell_type": "code",
   "execution_count": null,
   "metadata": {},
   "outputs": [],
   "source": [
    "# Obtenemos las listas de eslóganes de percentil 0.25, 0.5 and 0.75 y seleccionamos el último en cada caso\n",
    "\n",
    "sloganQ1 = slogansSorted[slogansSorted['score'] <= slogansSorted['score'].quantile(0.25)].iloc[-1,18]\n",
    "\n",
    "sloganQ2 = slogansSorted[(slogansSorted['score'] > slogansSorted['score'].quantile(0.25)) & (slogansSorted['score'] < slogansSorted['score'].quantile(0.75))].iloc[-1,18]\n",
    "\n",
    "sloganQ3 = slogansSorted[slogansSorted['score'] >= slogansSorted['score'].quantile(0.75)].iloc[-1,18]"
   ]
  },
  {
   "cell_type": "code",
   "execution_count": null,
   "metadata": {},
   "outputs": [],
   "source": [
    "# Lista con el eslogan ganador y los tres eslóganes seleccionados de cada percentil\n",
    "\n",
    "slogansSelected = [sloganGenerated, sloganQ3, sloganQ2, sloganQ1]\n",
    "\n",
    "brand = brandWikiTitle"
   ]
  },
  {
   "cell_type": "code",
   "execution_count": null,
   "metadata": {},
   "outputs": [],
   "source": [
    "slogansSelected"
   ]
  },
  {
   "cell_type": "code",
   "execution_count": null,
   "metadata": {},
   "outputs": [],
   "source": [
    "# Dataframe con la lista de eslóganes y el nombre de la primera compañía \n",
    "\n",
    "slogansPoll = pd.DataFrame({\"brand\": brand, \"slogans\": slogansSelected})\n",
    "\n",
    "slogansPoll\n",
    "\n",
    "# Exportar el resultado a un documento excel\n",
    "\n",
    "slogansPoll.to_excel('slogansPoll.xlsx')"
   ]
  },
  {
   "cell_type": "code",
   "execution_count": null,
   "metadata": {},
   "outputs": [],
   "source": [
    "# Crear dataframe con los cuatro eslóganes seleccionados y la compañía (a partir de la segunda compañía)\n",
    "\n",
    "#slogansPollRe = pd.DataFrame({\"brand\": brand, \"slogans\": slogansSelected})\n",
    "\n",
    "# Concatenear el resultado de las 10 compañías en el dataframe\n",
    "\n",
    "#slogansPoll = slogansPoll.append(slogansPollRe, ignore_index = True)\n",
    "\n",
    "# Abrir y guardar en el excel (hasta tener las 10 compañias para la encuesta)\n",
    "\n",
    "#slogansPoll = pd.read_excel('slogansPoll.xlsx')\n",
    "\n",
    "#slogansPoll.to_excel('slogansPoll.xlsx')"
   ]
  }
 ],
 "metadata": {
  "colab": {
   "collapsed_sections": [],
   "name": "SloganGenerator.ipynb",
   "provenance": [],
   "toc_visible": true,
   "version": "0.3.2"
  },
  "kernelspec": {
   "display_name": "Python 3",
   "language": "python",
   "name": "python3"
  },
  "language_info": {
   "codemirror_mode": {
    "name": "ipython",
    "version": 3
   },
   "file_extension": ".py",
   "mimetype": "text/x-python",
   "name": "python",
   "nbconvert_exporter": "python",
   "pygments_lexer": "ipython3",
   "version": "3.7.1"
  }
 },
 "nbformat": 4,
 "nbformat_minor": 2
}
